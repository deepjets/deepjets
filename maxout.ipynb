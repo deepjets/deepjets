{
 "cells": [
  {
   "cell_type": "code",
   "execution_count": 5,
   "metadata": {
    "collapsed": false
   },
   "outputs": [
    {
     "name": "stdout",
     "output_type": "stream",
     "text": [
      "The autoreload extension is already loaded. To reload it, use:\n",
      "  %reload_ext autoreload\n"
     ]
    }
   ],
   "source": [
    "%load_ext autoreload\n",
    "%autoreload 2\n",
    "%matplotlib inline"
   ]
  },
  {
   "cell_type": "code",
   "execution_count": 6,
   "metadata": {
    "collapsed": false
   },
   "outputs": [],
   "source": [
    "import h5py\n",
    "import numpy as np\n",
    "import matplotlib.pyplot as plt\n",
    "import seaborn\n",
    "from deepjets import learning, models, preprocessing, utils"
   ]
  },
  {
   "cell_type": "code",
   "execution_count": 26,
   "metadata": {
    "collapsed": false
   },
   "outputs": [
    {
     "name": "stdout",
     "output_type": "stream",
     "text": [
      "Train on 18000 samples, validate on 2000 samples\n",
      "Epoch 1/50\n",
      "18000/18000 [==============================] - 4s - loss: 0.6809 - val_loss: 0.6041\n",
      "Epoch 00000: val_loss improved from inf to 0.60405, saving model to models/w_ns_mslice_mini_weights.h5\n",
      "Epoch 2/50\n",
      "18000/18000 [==============================] - 4s - loss: 0.5678 - val_loss: 0.5384\n",
      "Epoch 00001: val_loss improved from 0.60405 to 0.53841, saving model to models/w_ns_mslice_mini_weights.h5\n",
      "Epoch 3/50\n",
      "18000/18000 [==============================] - 5s - loss: 0.5265 - val_loss: 0.5117\n",
      "Epoch 00002: val_loss improved from 0.53841 to 0.51173, saving model to models/w_ns_mslice_mini_weights.h5\n",
      "Epoch 4/50\n",
      "18000/18000 [==============================] - 9s - loss: 0.5051 - val_loss: 0.5092\n",
      "Epoch 00003: val_loss improved from 0.51173 to 0.50919, saving model to models/w_ns_mslice_mini_weights.h5\n",
      "Epoch 5/50\n",
      "18000/18000 [==============================] - 10s - loss: 0.4887 - val_loss: 0.4969\n",
      "Epoch 00004: val_loss improved from 0.50919 to 0.49685, saving model to models/w_ns_mslice_mini_weights.h5\n",
      "Epoch 6/50\n",
      "18000/18000 [==============================] - 11s - loss: 0.4796 - val_loss: 0.4843\n",
      "Epoch 00005: val_loss improved from 0.49685 to 0.48428, saving model to models/w_ns_mslice_mini_weights.h5\n",
      "Epoch 7/50\n",
      "18000/18000 [==============================] - 11s - loss: 0.4736 - val_loss: 0.4809\n",
      "Epoch 00006: val_loss improved from 0.48428 to 0.48094, saving model to models/w_ns_mslice_mini_weights.h5\n",
      "Epoch 8/50\n",
      "18000/18000 [==============================] - 11s - loss: 0.4822 - val_loss: 0.5202\n",
      "Epoch 00007: val_loss did not improve\n",
      "Epoch 00007: early stopping\n"
     ]
    }
   ],
   "source": [
    "model = models.get_maxout(25**2)\n",
    "history = learning.train_model(\n",
    "    model, 'datasets/w_ns_mslice_mini_train.h5', 'models/w_ns_mslice_mini',\n",
    "    epochs=50, patience=0, verbose=1, lr_scale_factor=0.9, log_to_file=True)"
   ]
  },
  {
   "cell_type": "code",
   "execution_count": 11,
   "metadata": {
    "collapsed": false
   },
   "outputs": [
    {
     "name": "stdout",
     "output_type": "stream",
     "text": [
      "Testing on 20000 samples.\n",
      "Dataset from datasets/w_ns_mslice_mini_test.h5.\n",
      "Score    = 0.433435060084\n",
      "ROC AUC  = 0.934415879908\n",
      "Accuracy = 16171/20000 = 0.80855\n",
      "\n"
     ]
    },
    {
     "data": {
      "image/png": "[encoded data removed]",
      "text/plain": [
       "<matplotlib.figure.Figure at 0x11b393250>"
      ]
     },
     "metadata": {},
     "output_type": "display_data"
    }
   ],
   "source": [
    "roc = learning.test_model(models.load_model('models/w_ns_mslice_mini'),\n",
    "                          'datasets/w_ns_mslice_mini_test.h5', show_roc_curve=True)\n",
    "# Cross-validation early stopping"
   ]
  },
  {
   "cell_type": "code",
   "execution_count": null,
   "metadata": {
    "collapsed": true
   },
   "outputs": [],
   "source": []
  }
 ],
 "metadata": {
  "kernelspec": {
   "display_name": "Python 2",
   "language": "python",
   "name": "python2"
  },
  "language_info": {
   "codemirror_mode": {
    "name": "ipython",
    "version": 2
   },
   "file_extension": ".py",
   "mimetype": "text/x-python",
   "name": "python",
   "nbconvert_exporter": "python",
   "pygments_lexer": "ipython2",
   "version": "2.7.11"
  }
 },
 "nbformat": 4,
 "nbformat_minor": 0
}
