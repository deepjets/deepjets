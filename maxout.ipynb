{
 "cells": [
  {
   "cell_type": "code",
   "execution_count": 1,
   "metadata": {
    "collapsed": false
   },
   "outputs": [],
   "source": [
    "%load_ext autoreload\n",
    "%autoreload 2\n",
    "%matplotlib inline"
   ]
  },
  {
   "cell_type": "code",
   "execution_count": 2,
   "metadata": {
    "collapsed": false
   },
   "outputs": [
    {
     "name": "stdout",
     "output_type": "stream",
     "text": [
      "Using Theano backend.\n"
     ]
    },
    {
     "name": "stderr",
     "output_type": "stream",
     "text": [
      "//anaconda/lib/python2.7/site-packages/IPython/html.py:14: ShimWarning: The `IPython.html` package has been deprecated. You should import from `notebook` instead. `IPython.html.widgets` has moved to `ipywidgets`.\n",
      "  \"`IPython.html.widgets` has moved to `ipywidgets`.\", ShimWarning)\n"
     ]
    }
   ],
   "source": [
    "import h5py\n",
    "import numpy as np\n",
    "import matplotlib.pyplot as plt\n",
    "import seaborn\n",
    "from deepjets import learning, models, preprocessing, utils"
   ]
  },
  {
   "cell_type": "code",
   "execution_count": 3,
   "metadata": {
    "collapsed": false
   },
   "outputs": [],
   "source": [
    "model = models.get_maxout(25**2)"
   ]
  },
  {
   "cell_type": "code",
   "execution_count": 22,
   "metadata": {
    "collapsed": false
   },
   "outputs": [
    {
     "name": "stdout",
     "output_type": "stream",
     "text": [
      "Training on 1600 samples, validating on 400 samples.\n",
      "Datasets from datasets/w_noshrink_mini_train.h5.\n",
      "Epoch 32/100: epochs w/o increase = 10, AUC = 17.9606098111                    \n",
      "Patience tolerance reached.\n",
      "Training complete. Best validation AUC = 18.1587300516\n"
     ]
    },
    {
     "data": {
      "text/plain": [
       "<keras.models.Sequential at 0x10ca74bd0>"
      ]
     },
     "execution_count": 22,
     "metadata": {},
     "output_type": "execute_result"
    }
   ],
   "source": [
    "learning.train_model(model, 'datasets/w_noshrink_mini_train.h5', 'models/w_noshrink_mini')"
   ]
  },
  {
   "cell_type": "code",
   "execution_count": null,
   "metadata": {
    "collapsed": true
   },
   "outputs": [],
   "source": [
    "n_images = -1\n",
    "n_folds = 1\n",
    "test_frac = 0.1\n",
    "val_frac = 0.1\n",
    "sig_file = 'images/w_images.h5'\n",
    "bkd_file = 'images/qcd_images.h5'\n",
    "dataset_name = 'datasets/test'\n",
    "model_name = 'models/test'"
   ]
  },
  {
   "cell_type": "code",
   "execution_count": null,
   "metadata": {
    "collapsed": false
   },
   "outputs": [],
   "source": [
    "h5_files = utils.prepare_datasets(\n",
    "    sig_file, bkd_file, dataset_name, n_sig=n_images, n_bkd=n_images, test_frac=test_frac,\n",
    "    val_frac=val_frac, n_folds=n_folds, auxvars=['weights'], shuffle=True, shuffle_seed=1)"
   ]
  },
  {
   "cell_type": "code",
   "execution_count": null,
   "metadata": {
    "collapsed": false
   },
   "outputs": [],
   "source": [
    "learning.train_model(model, h5_files['train'], model_name)"
   ]
  },
  {
   "cell_type": "code",
   "execution_count": null,
   "metadata": {
    "collapsed": false
   },
   "outputs": [],
   "source": [
    "utils.plot_sig_bkd_dists(models.load_model('models/maxout_w_default'),\n",
    "                         'datasets/w_test.h5')"
   ]
  },
  {
   "cell_type": "code",
   "execution_count": null,
   "metadata": {
    "collapsed": false
   },
   "outputs": [],
   "source": [
    "utils.plot_sig_bkd_dists(models.load_model('models/maxout_w_default_2'),\n",
    "                         'datasets/w_test.h5')"
   ]
  },
  {
   "cell_type": "code",
   "execution_count": null,
   "metadata": {
    "collapsed": true
   },
   "outputs": [],
   "source": [
    "roc = learning.test_model(models.load_model('models/maxout_w_default'),\n",
    "                          'datasets/w_test.h5', show_ROC_curve=False)"
   ]
  },
  {
   "cell_type": "code",
   "execution_count": 21,
   "metadata": {
    "collapsed": false
   },
   "outputs": [
    {
     "name": "stdout",
     "output_type": "stream",
     "text": [
      "Testing on 200000 samples.\n",
      "Dataset from datasets/w_test.h5.\n",
      "Score    = 0.446126715076\n",
      "AUC      = 47.4265099969\n",
      "Accuracy = 159766/200000 = 0.79883\n",
      "\n"
     ]
    }
   ],
   "source": [
    "roc_2 = learning.test_model(models.load_model('models/maxout_w_default_2'),\n",
    "                           'datasets/w_test.h5', show_ROC_curve=False)"
   ]
  },
  {
   "cell_type": "code",
   "execution_count": null,
   "metadata": {
    "collapsed": false
   },
   "outputs": [],
   "source": [
    "utils.plot_roc_curves([roc['ROC_curve'], roc_2['ROC_curve']],\n",
    "                      ['MaxOut 162k images', 'MaxOut 450k images'])"
   ]
  },
  {
   "cell_type": "code",
   "execution_count": null,
   "metadata": {
    "collapsed": false
   },
   "outputs": [],
   "source": [
    "roc_mass = utils.auxvar_roc_curve('datasets/w_test.h5', 'mass')\n",
    "roc_tau_21 = utils.auxvar_roc_curve('datasets/w_test.h5', 'tau_21', invert_score=True)"
   ]
  },
  {
   "cell_type": "code",
   "execution_count": null,
   "metadata": {
    "collapsed": false
   },
   "outputs": [],
   "source": [
    "utils.plot_roc_curves([roc_2['ROC_curve'], roc_tau_21, roc_mass],\n",
    "                      ['MaxOut', r'$\\tau_{21}$', 'mass'])"
   ]
  },
  {
   "cell_type": "code",
   "execution_count": null,
   "metadata": {
    "collapsed": false
   },
   "outputs": [],
   "source": [
    "import matplotlib.pyplot as plt\n",
    "with h5py.File('datasets/w_test.h5', 'r') as h5file:\n",
    "    Y_test = h5file['Y_test'][:]\n",
    "    var = h5file['tau_21'][:]\n",
    "var_s = var[Y_test[:, 0] == 1]\n",
    "var_b = var[Y_test[:, 0] == 0]\n",
    "fig = plt.figure(figsize=(6, 5))\n",
    "ax = fig.add_subplot(111)\n",
    "bins = np.linspace(0, 1, 50)\n",
    "ax.hist(var_s, bins=bins, histtype='stepfilled', normed=True, color='b', alpha=0.5,\n",
    "        label='signal')\n",
    "ax.hist(var_b, bins=bins, histtype='stepfilled', normed=True, color='r', alpha=0.5,\n",
    "        label='background')\n",
    "ax.set_xlabel(\"var\", fontsize=16)\n",
    "ax.set_ylabel(\"frequency\", fontsize=16)\n",
    "ax.tick_params(axis='both', which='major', labelsize=12)\n",
    "plt.legend(fontsize=16, loc=2)\n",
    "fig.show()"
   ]
  },
  {
   "cell_type": "code",
   "execution_count": null,
   "metadata": {
    "collapsed": false
   },
   "outputs": [],
   "source": [
    "with h5py.File('datasets/w_test.h5', 'r') as h5file:\n",
    "    Y_test = h5file['Y_test'][:]\n",
    "    var = h5file['mass'][:]\n",
    "var_s = var[Y_test[:, 0] == 1]\n",
    "var_b = var[Y_test[:, 0] == 0]\n",
    "fig = plt.figure(figsize=(6, 5))\n",
    "ax = fig.add_subplot(111)\n",
    "bins = np.linspace(0, 150, 50)\n",
    "ax.hist(var_s, bins=bins, histtype='stepfilled', normed=True, color='b', alpha=0.5,\n",
    "        label='signal')\n",
    "ax.hist(var_b, bins=bins, histtype='stepfilled', normed=True, color='r', alpha=0.5,\n",
    "        label='background')\n",
    "ax.set_xlabel(\"var\", fontsize=16)\n",
    "ax.set_ylabel(\"frequency\", fontsize=16)\n",
    "ax.tick_params(axis='both', which='major', labelsize=12)\n",
    "plt.legend(fontsize=16, loc=2)\n",
    "fig.show()"
   ]
  },
  {
   "cell_type": "code",
   "execution_count": null,
   "metadata": {
    "collapsed": false
   },
   "outputs": [],
   "source": [
    "from sklearn.metrics import auc, roc_curve\n",
    "from scipy.interpolate import interp1d\n",
    "with h5py.File('datasets/w_test.h5', 'r') as h5file:\n",
    "    Y_test = h5file['Y_test'][:]\n",
    "    var = h5file['mass'][:]\n",
    "var_s = var[Y_test[:, 0] == 1]\n",
    "var_b = var[Y_test[:, 0] == 0]\n",
    "var_b.sort()\n",
    "n_bins = 1000\n",
    "n_per_bin = len(var_b) / n_bins\n",
    "bins = np.array([var_b[i] for i in xrange(0, len(var_b), n_per_bin)] + [var_b[-1]])\n",
    "bins[0] = min(bins[0], var_s.min())\n",
    "bins[-1] = max(bins[-1], var_s.max())\n",
    "lklhd_rat, _ = np.histogram(var_s, bins)\n",
    "score_s = lklhd_rat[np.searchsorted(bins[1:], var_s)]\n",
    "score_b = lklhd_rat[np.searchsorted(bins[1:], var_b)]\n",
    "fig = plt.figure(figsize=(6, 5))\n",
    "ax = fig.add_subplot(111)\n",
    "ax.hist(score_s, histtype='stepfilled', normed=True, color='b', alpha=0.5,\n",
    "        label='signal')\n",
    "ax.hist(score_b, histtype='stepfilled', normed=True, color='r', alpha=0.5,\n",
    "        label='background')\n",
    "ax.set_xlabel(\"var\", fontsize=16)\n",
    "ax.set_ylabel(\"frequency\", fontsize=16)\n",
    "ax.tick_params(axis='both', which='major', labelsize=12)\n",
    "plt.legend(fontsize=16, loc=1)\n",
    "fig.show()\n",
    "fpr, tpr, _ = roc_curve(np.concatenate((np.ones(len(score_s)), np.zeros(len(score_b)))),\n",
    "                        np.concatenate((score_s, score_b)))\n",
    "res = 1./len(Y_test)\n",
    "roc_mass = np.array(\n",
    "    [[tp, 1./fp]\n",
    "     for tp,fp in zip(tpr,fpr) if (0.2 <= tp <= 0.8 and fp > 0.)])\n",
    "with h5py.File('datasets/w_test.h5', 'r') as h5file:\n",
    "    Y_test = h5file['Y_test'][:]\n",
    "    var = h5file['tau_21'][:]\n",
    "var_s = var[Y_test[:, 0] == 1]\n",
    "var_b = var[Y_test[:, 0] == 0]\n",
    "var_b.sort()\n",
    "n_bins = 1000\n",
    "n_per_bin = len(var_b) / n_bins\n",
    "bins = np.array([var_b[i] for i in xrange(0, len(var_b), n_per_bin)] + [var_b[-1]])\n",
    "bins[0] = min(bins[0], var_s.min())\n",
    "bins[-1] = max(bins[-1], var_s.max())\n",
    "lklhd_rat, _ = np.histogram(var_s, bins)\n",
    "score_s = lklhd_rat[np.searchsorted(bins[1:], var_s)]\n",
    "score_b = lklhd_rat[np.searchsorted(bins[1:], var_b)]\n",
    "fig = plt.figure(figsize=(6, 5))\n",
    "ax = fig.add_subplot(111)\n",
    "ax.hist(score_s, histtype='stepfilled', normed=True, color='b', alpha=0.5,\n",
    "        label='signal')\n",
    "ax.hist(score_b, histtype='stepfilled', normed=True, color='r', alpha=0.5,\n",
    "        label='background')\n",
    "ax.set_xlabel(\"var\", fontsize=16)\n",
    "ax.set_ylabel(\"frequency\", fontsize=16)\n",
    "ax.tick_params(axis='both', which='major', labelsize=12)\n",
    "plt.legend(fontsize=16, loc=1)\n",
    "fig.show()\n",
    "fpr, tpr, _ = roc_curve(np.concatenate((np.ones(len(score_s)), np.zeros(len(score_b)))),\n",
    "                        np.concatenate((score_s, score_b)))\n",
    "res = 1./len(Y_test)\n",
    "roc_tau_21 = np.array(\n",
    "    [[tp, 1./fp]\n",
    "     for tp,fp in zip(tpr,fpr) if (0.2 <= tp <= 0.8 and fp > 0.)])"
   ]
  },
  {
   "cell_type": "code",
   "execution_count": 19,
   "metadata": {
    "collapsed": false
   },
   "outputs": [
    {
     "name": "stdout",
     "output_type": "stream",
     "text": [
      "Testing on 200000 samples.\n",
      "Dataset from datasets/w_test.h5.\n",
      "Score    = 0.446126715076\n",
      "AUC      = 44.4206813539\n",
      "Accuracy = 159766/200000 = 0.79883\n",
      "\n"
     ]
    }
   ],
   "source": [
    "roc_2_custom = learning.test_model(models.load_model('models/maxout_w_default_2'),\n",
    "                                   'datasets/w_test.h5', show_ROC_curve=False,\n",
    "                                   use_custom_roc_curve=True)"
   ]
  },
  {
   "cell_type": "code",
   "execution_count": 26,
   "metadata": {
    "collapsed": false
   },
   "outputs": [
    {
     "data": {
      "image/png": "[encoded data removed]",
      "text/plain": [
       "<matplotlib.figure.Figure at 0x11b755950>"
      ]
     },
     "metadata": {},
     "output_type": "display_data"
    }
   ],
   "source": [
    "utils.plot_roc_curves([roc_2_custom['ROC_curve']],\n",
    "                      ['custom'])"
   ]
  },
  {
   "cell_type": "code",
   "execution_count": null,
   "metadata": {
    "collapsed": true
   },
   "outputs": [],
   "source": []
  }
 ],
 "metadata": {
  "kernelspec": {
   "display_name": "Python 2",
   "language": "python",
   "name": "python2"
  },
  "language_info": {
   "codemirror_mode": {
    "name": "ipython",
    "version": 2
   },
   "file_extension": ".py",
   "mimetype": "text/x-python",
   "name": "python",
   "nbconvert_exporter": "python",
   "pygments_lexer": "ipython2",
   "version": "2.7.11"
  }
 },
 "nbformat": 4,
 "nbformat_minor": 0
}
