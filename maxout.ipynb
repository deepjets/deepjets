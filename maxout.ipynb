{
 "cells": [
  {
   "cell_type": "code",
   "execution_count": 1,
   "metadata": {
    "collapsed": false
   },
   "outputs": [],
   "source": [
    "%load_ext autoreload\n",
    "%autoreload 2\n",
    "%matplotlib inline"
   ]
  },
  {
   "cell_type": "code",
   "execution_count": 2,
   "metadata": {
    "collapsed": false
   },
   "outputs": [
    {
     "name": "stdout",
     "output_type": "stream",
     "text": [
      "Using Theano backend.\n"
     ]
    },
    {
     "name": "stderr",
     "output_type": "stream",
     "text": [
      "//anaconda/lib/python2.7/site-packages/IPython/html.py:14: ShimWarning: The `IPython.html` package has been deprecated. You should import from `notebook` instead. `IPython.html.widgets` has moved to `ipywidgets`.\n",
      "  \"`IPython.html.widgets` has moved to `ipywidgets`.\", ShimWarning)\n"
     ]
    }
   ],
   "source": [
    "from deepjets import learning, models, preprocessing, utils\n",
    "import seaborn"
   ]
  },
  {
   "cell_type": "code",
   "execution_count": null,
   "metadata": {
    "collapsed": false
   },
   "outputs": [],
   "source": [
    "model = models.get_maxout(25**2)"
   ]
  },
  {
   "cell_type": "code",
   "execution_count": null,
   "metadata": {
    "collapsed": true
   },
   "outputs": [],
   "source": [
    "n_images = -1\n",
    "n_folds = 1\n",
    "test_frac = 0.1\n",
    "val_frac = 0.1\n",
    "sig_file = 'images/w_images.h5'\n",
    "bkd_file = 'images/qcd_images.h5'\n",
    "dataset_name = 'datasets/test'\n",
    "model_name = 'models/test'"
   ]
  },
  {
   "cell_type": "code",
   "execution_count": null,
   "metadata": {
    "collapsed": false
   },
   "outputs": [],
   "source": [
    "h5_files = utils.prepare_datasets(\n",
    "    sig_file, bkd_file, dataset_name, n_sig=n_images, n_bkd=n_images, test_frac=test_frac,\n",
    "    val_frac=val_frac, n_folds=n_folds, auxvars=['weights'], shuffle=True, shuffle_seed=1)"
   ]
  },
  {
   "cell_type": "code",
   "execution_count": null,
   "metadata": {
    "collapsed": false
   },
   "outputs": [],
   "source": [
    "learning.train_model(model, h5_files['train'], model_name)"
   ]
  },
  {
   "cell_type": "code",
   "execution_count": null,
   "metadata": {
    "collapsed": false
   },
   "outputs": [],
   "source": [
    "utils.plot_sig_bkd_dists(models.load_model('models/maxout_w_default'),\n",
    "                         'datasets/w_test.h5')"
   ]
  },
  {
   "cell_type": "code",
   "execution_count": null,
   "metadata": {
    "collapsed": false
   },
   "outputs": [],
   "source": [
    "utils.plot_sig_bkd_dists(models.load_model('models/maxout_w_default_2'),\n",
    "                         'datasets/w_test.h5')"
   ]
  },
  {
   "cell_type": "code",
   "execution_count": null,
   "metadata": {
    "collapsed": false
   },
   "outputs": [],
   "source": [
    "roc = learning.test_model(models.load_model('models/maxout_w_default'),\n",
    "                          'datasets/w_test.h5', show_ROC_curve=False)\n",
    "roc_2 = learning.test_model(models.load_model('models/maxout_w_default_2'),\n",
    "                            'datasets/w_test.h5', show_ROC_curve=False)"
   ]
  },
  {
   "cell_type": "code",
   "execution_count": null,
   "metadata": {
    "collapsed": false
   },
   "outputs": [],
   "source": [
    "utils.plot_roc_curves([roc['ROC_curve'], roc_2['ROC_curve']],\n",
    "                      ['MaxOut 162k images', 'MaxOut 450k images'])"
   ]
  },
  {
   "cell_type": "code",
   "execution_count": null,
   "metadata": {
    "collapsed": true
   },
   "outputs": [],
   "source": [
    "import h5py\n",
    "import numpy as np\n",
    "\n",
    "edges = preprocessing.pixel_edges(jet_size=1.0, subjet_size_fraction=0.5, pix_size=(0.1, 0.1))\n",
    "\n",
    "with h5py.File('images/w_test.h5', 'r') as h5file:\n",
    "    nevents = len(h5file['subjets'])\n",
    "    images_s = np.empty((nevents, 25, 25), dtype=np.double)\n",
    "    for i in xrange(nevents):\n",
    "        subjets = h5file['subjets'][i]\n",
    "        trimmed_constit = h5file['trimmed_constituents'][i]\n",
    "        shrinkage = h5file['shrinkage'][i]\n",
    "        image = preprocessing.preprocess(subjets, trimmed_constit, edges, zoom=1./shrinkage,\n",
    "                                         normalize=True, out_width=25)\n",
    "        images_s[i] = image\n",
    "    pT_s = h5file['trimmed_jet']['pT'][:]\n",
    "    mass_s = h5file['trimmed_jet']['mass'][:]\n",
    "    tau21_s = h5file['tau_2'][:] / h5file['tau_1'][:]\n",
    "\n",
    "with h5py.File('images/qcd_test.h5', 'r') as h5file:\n",
    "    nevents = len(h5file['subjets'])\n",
    "    images_b = np.empty((nevents, 25, 25), dtype=np.double)\n",
    "    for i in xrange(nevents):\n",
    "        subjets = h5file['subjets'][i]\n",
    "        trimmed_constit = h5file['trimmed_constituents'][i]\n",
    "        shrinkage = h5file['shrinkage'][i]\n",
    "        image = preprocessing.preprocess(subjets, trimmed_constit, edges, zoom=1./shrinkage,\n",
    "                                         normalize=True, out_width=25)\n",
    "        images_b[i] = image\n",
    "    pT_b = h5file['trimmed_jet']['pT'][:]\n",
    "    mass_b = h5file['trimmed_jet']['mass'][:]\n",
    "    tau21_b = h5file['tau_2'][:] / h5file['tau_1'][:]\n",
    "\n",
    "n_sig = len(images_s)\n",
    "n_bkd = len(images_b)\n",
    "images = np.concatenate((images_s, images_b))\n",
    "images = images.reshape(-1, images.shape[1] * images.shape[2])\n",
    "# True classes\n",
    "classes = np.concatenate([np.repeat([[1, 0]], n_sig, axis=0),\n",
    "                          np.repeat([[0, 1]], n_bkd, axis=0)])\n",
    "with h5py.File('datasets/w_test.h5', 'w') as h5file:\n",
    "    h5file.create_dataset('X_test', data=images)\n",
    "    h5file.create_dataset('Y_test', data=classes)\n",
    "    h5file.create_dataset('pT', data=np.concatenate((pT_s, pT_b)))\n",
    "    h5file.create_dataset('mass', data=np.concatenate((mass_s, mass_b)))\n",
    "    h5file.create_dataset('tau_21', data=np.concatenate((tau21_s, tau21_b)))"
   ]
  },
  {
   "cell_type": "code",
   "execution_count": null,
   "metadata": {
    "collapsed": false
   },
   "outputs": [],
   "source": [
    "roc_pT = utils.auxvar_roc_curve('datasets/w_test.h5', 'pT')\n",
    "roc_mass = utils.auxvar_roc_curve('datasets/w_test.h5', 'mass')\n",
    "roc_tau_21 = utils.auxvar_roc_curve('datasets/w_test.h5', 'tau_21')"
   ]
  },
  {
   "cell_type": "code",
   "execution_count": null,
   "metadata": {
    "collapsed": false
   },
   "outputs": [],
   "source": [
    "utils.plot_roc_curves([roc_2['ROC_curve'], roc_pT, roc_mass, roc_tau_21],\n",
    "                      ['MaxOut', r'$p_T$', 'mass', r'$\\tau_{21}$'])"
   ]
  },
  {
   "cell_type": "code",
   "execution_count": null,
   "metadata": {
    "collapsed": false
   },
   "outputs": [],
   "source": [
    "import matplotlib.pyplot as plt\n",
    "with h5py.File('datasets/w_test.h5', 'r') as h5file:\n",
    "    Y_test = h5file['Y_test'][:]\n",
    "    var = h5file['tau_21'][:]\n",
    "var -= var.min()\n",
    "var /= var.max()\n",
    "var_s = var[Y_test[:, 0] == 1]\n",
    "var_b = var[Y_test[:, 0] == 0]\n",
    "fig = plt.figure(figsize=(6, 5))\n",
    "ax = fig.add_subplot(111)\n",
    "bins = np.linspace(0, 1, 50)\n",
    "ax.hist(var_s, bins=bins, histtype='stepfilled', normed=True, color='b', alpha=0.5,\n",
    "        label='signal')\n",
    "ax.hist(var_b, bins=bins, histtype='stepfilled', normed=True, color='r', alpha=0.5,\n",
    "        label='background')\n",
    "ax.set_xlabel(\"var\", fontsize=16)\n",
    "ax.set_ylabel(\"frequency\", fontsize=16)\n",
    "ax.tick_params(axis='both', which='major', labelsize=12)\n",
    "plt.legend(fontsize=16, loc=2)\n",
    "fig.show()"
   ]
  },
  {
   "cell_type": "code",
   "execution_count": null,
   "metadata": {
    "collapsed": true
   },
   "outputs": [],
   "source": []
  }
 ],
 "metadata": {
  "kernelspec": {
   "display_name": "Python 2",
   "language": "python",
   "name": "python2"
  },
  "language_info": {
   "codemirror_mode": {
    "name": "ipython",
    "version": 2
   },
   "file_extension": ".py",
   "mimetype": "text/x-python",
   "name": "python",
   "nbconvert_exporter": "python",
   "pygments_lexer": "ipython2",
   "version": "2.7.11"
  }
 },
 "nbformat": 4,
 "nbformat_minor": 0
}
