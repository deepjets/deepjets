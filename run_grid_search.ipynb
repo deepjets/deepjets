{
 "cells": [
  {
   "cell_type": "code",
   "execution_count": 1,
   "metadata": {
    "collapsed": false
   },
   "outputs": [],
   "source": [
    "%load_ext autoreload\n",
    "%autoreload 2\n",
    "%matplotlib inline"
   ]
  },
  {
   "cell_type": "code",
   "execution_count": 2,
   "metadata": {
    "collapsed": false
   },
   "outputs": [
    {
     "name": "stdout",
     "output_type": "stream",
     "text": [
      "Using Theano backend.\n"
     ]
    }
   ],
   "source": [
    "import deepjets.models as djm\n",
    "import deepjets.learning as djl\n",
    "from keras.optimizers import Adam"
   ]
  },
  {
   "cell_type": "code",
   "execution_count": 3,
   "metadata": {
    "collapsed": true
   },
   "outputs": [],
   "source": [
    "n_images = 1000\n",
    "n_folds = 2\n",
    "test_frac = 0.1\n",
    "val_frac = 0.1\n",
    "sig_file = 'images/w_shrink_1p2.h5'\n",
    "bkd_file = 'images/qcd_shrink_1p2.h5'\n",
    "dataset_name = 'datasets/shrink_1p2'\n",
    "model_name = 'models/maxout_shrink_1p2'"
   ]
  },
  {
   "cell_type": "code",
   "execution_count": 4,
   "metadata": {
    "collapsed": false
   },
   "outputs": [],
   "source": [
    "h5_files = djl.prepare_datasets(\n",
    "    sig_file, bkd_file, dataset_name,\n",
    "    n_sig=n_images, n_bkd=n_images, test_frac=test_frac, val_frac=val_frac,\n",
    "    n_folds=n_folds, shuffle=True, shuffle_seed=1)"
   ]
  },
  {
   "cell_type": "code",
   "execution_count": 5,
   "metadata": {
    "collapsed": false
   },
   "outputs": [
    {
     "name": "stdout",
     "output_type": "stream",
     "text": [
      "Compiling models...\n",
      "\n",
      "Cross-validating models...\n",
      "\n",
      "Optimizer parameters = {'lr': 0.001}, k-fold = 0\n",
      "Training on 810 samples, validating on 90 samples.\n",
      "Datasets from datasets/shrink_1p2_train_kf0.h5.\n",
      "Epoch 48/100: epochs w/o increase = 10, AUC = 5.45644149133                    \n",
      "Patience tolerance reached.\n",
      "Training complete. Best AUC = 9.71446105574\n",
      "Testing on 900 samples.\n",
      "Dataset from datasets/shrink_1p2_train_kf0.h5.\n",
      "Score    = 0.577557733059\n",
      "AUC      = 7.211169984\n",
      "Accuracy = 655/900 = 0.727777777778\n",
      "\n",
      "Optimizer parameters = {'lr': 0.001}, k-fold = 1\n",
      "Training on 810 samples, validating on 90 samples.\n",
      "Datasets from datasets/shrink_1p2_train_kf1.h5.\n",
      "Epoch 19/100: epochs w/o increase = 10, AUC = 7.02329372755                    \n",
      "Patience tolerance reached.\n",
      "Training complete. Best AUC = 8.08039242082\n",
      "Testing on 900 samples.\n",
      "Dataset from datasets/shrink_1p2_train_kf1.h5.\n",
      "Score    = 0.638107902606\n",
      "AUC      = 9.58608156993\n",
      "Accuracy = 612/900 = 0.68\n",
      "\n",
      "Optimizer parameters = {'lr': 0.002}, k-fold = 0\n",
      "Training on 810 samples, validating on 90 samples.\n",
      "Datasets from datasets/shrink_1p2_train_kf0.h5.\n",
      "Epoch 48/100: epochs w/o increase = 10, AUC = 3.22311738649                    \n",
      "Patience tolerance reached.\n",
      "Training complete. Best AUC = 11.7686902245\n",
      "Testing on 900 samples.\n",
      "Dataset from datasets/shrink_1p2_train_kf0.h5.\n",
      "Score    = 0.580158831543\n",
      "AUC      = 7.82177100646\n",
      "Accuracy = 656/900 = 0.728888888889\n",
      "\n",
      "Optimizer parameters = {'lr': 0.002}, k-fold = 1\n",
      "Training on 810 samples, validating on 90 samples.\n",
      "Datasets from datasets/shrink_1p2_train_kf1.h5.\n",
      "Epoch 26/100: epochs w/o increase = 10, AUC = 6.81160081054                    \n",
      "Patience tolerance reached.\n",
      "Training complete. Best AUC = 8.17813238771\n",
      "Testing on 900 samples.\n",
      "Dataset from datasets/shrink_1p2_train_kf1.h5.\n",
      "Score    = 0.598533086909\n",
      "AUC      = 10.8477448065\n",
      "Accuracy = 626/900 = 0.695555555556\n",
      "\n"
     ]
    }
   ],
   "source": [
    "gs_results = djl.optimizer_grid_search(\n",
    "    djm.get_maxout, (25**2,), Adam, {'lr' : [0.001, 0.002]},\n",
    "    h5_files['train'], model_name=model_name, verbose=2, max_jobs=1, log_to_file=False)"
   ]
  },
  {
   "cell_type": "code",
   "execution_count": 6,
   "metadata": {
    "collapsed": false
   },
   "outputs": [
    {
     "name": "stdout",
     "output_type": "stream",
     "text": [
      "Testing on 200 samples.\n",
      "Dataset from datasets/shrink_1p2_test.h5.\n",
      "Score    = 0.525675318241\n",
      "AUC      = 10.9610912002\n",
      "Accuracy = 150/200 = 0.75\n",
      "\n"
     ]
    },
    {
     "data": {
      "image/png": "[encoded data removed]",
      "text/plain": [
       "<matplotlib.figure.Figure at 0x11d475210>"
      ]
     },
     "metadata": {},
     "output_type": "display_data"
    }
   ],
   "source": [
    "_ = djl.test_model(djm.load_model('models/maxout_shrink_1p2_gp1_kf0'), h5_files['test'])"
   ]
  },
  {
   "cell_type": "code",
   "execution_count": 7,
   "metadata": {
    "collapsed": false
   },
   "outputs": [
    {
     "name": "stdout",
     "output_type": "stream",
     "text": [
      "{'AUC': 9.3347579064794211, 'parameters': {'lr': 0.002}}\n"
     ]
    }
   ],
   "source": [
    "print djl.select_best_model(gs_results)"
   ]
  },
  {
   "cell_type": "code",
   "execution_count": null,
   "metadata": {
    "collapsed": true
   },
   "outputs": [],
   "source": []
  }
 ],
 "metadata": {
  "kernelspec": {
   "display_name": "Python 2",
   "language": "python",
   "name": "python2"
  },
  "language_info": {
   "codemirror_mode": {
    "name": "ipython",
    "version": 2
   },
   "file_extension": ".py",
   "mimetype": "text/x-python",
   "name": "python",
   "nbconvert_exporter": "python",
   "pygments_lexer": "ipython2",
   "version": "2.7.11"
  }
 },
 "nbformat": 4,
 "nbformat_minor": 0
}
