{
 "cells": [
  {
   "cell_type": "code",
   "execution_count": 1,
   "metadata": {
    "collapsed": false
   },
   "outputs": [],
   "source": [
    "%load_ext autoreload\n",
    "%autoreload 2\n",
    "%matplotlib inline"
   ]
  },
  {
   "cell_type": "code",
   "execution_count": 2,
   "metadata": {
    "collapsed": false
   },
   "outputs": [
    {
     "name": "stdout",
     "output_type": "stream",
     "text": [
      "Using Theano backend.\n"
     ]
    },
    {
     "name": "stderr",
     "output_type": "stream",
     "text": [
      "//anaconda/lib/python2.7/site-packages/IPython/html.py:14: ShimWarning: The `IPython.html` package has been deprecated. You should import from `notebook` instead. `IPython.html.widgets` has moved to `ipywidgets`.\n",
      "  \"`IPython.html.widgets` has moved to `ipywidgets`.\", ShimWarning)\n"
     ]
    }
   ],
   "source": [
    "import deepjets as dj\n",
    "import seaborn\n",
    "from keras.optimizers import Adam"
   ]
  },
  {
   "cell_type": "code",
   "execution_count": 3,
   "metadata": {
    "collapsed": true
   },
   "outputs": [],
   "source": [
    "n_images = 5000\n",
    "n_folds = 2\n",
    "test_frac = 0.1\n",
    "val_frac = 0.1\n",
    "sig_file = 'images/w_images.h5'\n",
    "bkd_file = 'images/qcd_images.h5'\n",
    "dataset_name = 'datasets/w'\n",
    "model_name = 'models/maxout_w'"
   ]
  },
  {
   "cell_type": "code",
   "execution_count": 5,
   "metadata": {
    "collapsed": false
   },
   "outputs": [],
   "source": [
    "h5_files = dj.utils.prepare_datasets(\n",
    "    sig_file, bkd_file, dataset_name, n_sig=n_images, n_bkd=n_images, test_frac=test_frac,\n",
    "    val_frac=val_frac, n_folds=n_folds, auxvars=['weights'], shuffle=True, shuffle_seed=1)"
   ]
  },
  {
   "cell_type": "code",
   "execution_count": 7,
   "metadata": {
    "collapsed": false
   },
   "outputs": [
    {
     "name": "stdout",
     "output_type": "stream",
     "text": [
      "Compiling models...\n",
      "\n",
      "Cross-validating models...\n",
      "\n",
      "Optimizer parameters = {'lr': 0.001}, k-fold = 0\n",
      "Training on 4050 samples, validating on 450 samples.\n",
      "Datasets from datasets/w_train_kf0.h5.\n",
      "Epoch 70/100: epochs w/o increase = 10, AUC = 28.486617822                    \n",
      "Patience tolerance reached.\n",
      "Training complete. Best validation AUC = 55.912211199\n",
      "Testing on 4500 samples.\n",
      "Dataset from datasets/w_train_kf0.h5.\n",
      "Score    = 0.445037172053\n",
      "AUC      = 23.7959321426\n",
      "Accuracy = 3641/4500 = 0.809111111111\n",
      "\n",
      "Optimizer parameters = {'lr': 0.001}, k-fold = 1\n",
      "Training on 4050 samples, validating on 450 samples.\n",
      "Datasets from datasets/w_train_kf1.h5.\n",
      "Epoch 32/100: epochs w/o increase = 10, AUC = 15.2821209092                    \n",
      "Patience tolerance reached.\n",
      "Training complete. Best validation AUC = 18.4300409481\n",
      "Testing on 4500 samples.\n",
      "Dataset from datasets/w_train_kf1.h5.\n",
      "Score    = 0.483696432749\n",
      "AUC      = 20.3581577033\n",
      "Accuracy = 3488/4500 = 0.775111111111\n",
      "\n"
     ]
    }
   ],
   "source": [
    "gs_results = dj.learning.optimizer_grid_search(\n",
    "    djm.get_maxout, (25**2,), Adam, {'lr' : [0.001]},\n",
    "    h5_files['train'], model_name=model_name, verbose=2, max_jobs=1, log_to_file=False)"
   ]
  },
  {
   "cell_type": "code",
   "execution_count": 9,
   "metadata": {
    "collapsed": false
   },
   "outputs": [
    {
     "name": "stdout",
     "output_type": "stream",
     "text": [
      "Testing on 1000 samples.\n",
      "Dataset from datasets/w_test.h5.\n",
      "Score    = 0.447424693108\n",
      "AUC      = 30.5138328965\n",
      "Accuracy = 812/1000 = 0.812\n",
      "\n"
     ]
    },
    {
     "name": "stderr",
     "output_type": "stream",
     "text": [
      "//anaconda/lib/python2.7/site-packages/matplotlib/figure.py:387: UserWarning: matplotlib is currently using a non-GUI backend, so cannot show the figure\n",
      "  \"matplotlib is currently using a non-GUI backend, \"\n"
     ]
    },
    {
     "data": {
      "image/png": "[encoded data removed]",
      "text/plain": [
       "<matplotlib.figure.Figure at 0x10c419e50>"
      ]
     },
     "metadata": {},
     "output_type": "display_data"
    }
   ],
   "source": [
    "_ = dj.learning.test_model(djm.load_model(model_name+'_gp0_kf0'), h5_files['test'])"
   ]
  },
  {
   "cell_type": "code",
   "execution_count": null,
   "metadata": {
    "collapsed": false
   },
   "outputs": [],
   "source": [
    "print dj.learning.select_best_model(gs_results)"
   ]
  },
  {
   "cell_type": "code",
   "execution_count": null,
   "metadata": {
    "collapsed": true
   },
   "outputs": [],
   "source": []
  }
 ],
 "metadata": {
  "kernelspec": {
   "display_name": "Python 2",
   "language": "python",
   "name": "python2"
  },
  "language_info": {
   "codemirror_mode": {
    "name": "ipython",
    "version": 2
   },
   "file_extension": ".py",
   "mimetype": "text/x-python",
   "name": "python",
   "nbconvert_exporter": "python",
   "pygments_lexer": "ipython2",
   "version": "2.7.11"
  }
 },
 "nbformat": 4,
 "nbformat_minor": 0
}
