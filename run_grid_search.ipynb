{
 "cells": [
  {
   "cell_type": "code",
   "execution_count": 1,
   "metadata": {
    "collapsed": false
   },
   "outputs": [],
   "source": [
    "%load_ext autoreload\n",
    "%autoreload 2\n",
    "%matplotlib inline"
   ]
  },
  {
   "cell_type": "code",
   "execution_count": 2,
   "metadata": {
    "collapsed": false
   },
   "outputs": [
    {
     "name": "stdout",
     "output_type": "stream",
     "text": [
      "Using Theano backend.\n"
     ]
    }
   ],
   "source": [
    "from keras.optimizers import Adam\n",
    "from deepjets.models import get_maxout, load_model\n",
    "from deepjets.learning import optimizer_grid_search, prepare_datasets, test_model"
   ]
  },
  {
   "cell_type": "code",
   "execution_count": 3,
   "metadata": {
    "collapsed": true
   },
   "outputs": [],
   "source": [
    "n_images = 1000\n",
    "n_folds = 3\n",
    "test_frac = 0.1\n",
    "val_frac = 0.1\n",
    "sig_file = 'images/w_shrink_1p2.h5'\n",
    "bkd_file = 'images/qcd_shrink_1p2.h5'\n",
    "dataset_name = 'datasets/shrink_1p2'\n",
    "model_name = 'models/maxout_shrink_1p2'"
   ]
  },
  {
   "cell_type": "code",
   "execution_count": 4,
   "metadata": {
    "collapsed": false
   },
   "outputs": [],
   "source": [
    "h5_files = prepare_datasets(\n",
    "    sig_file, bkd_file, dataset_name,\n",
    "    n_sig=n_images, n_bkd=n_images, test_frac=test_frac, val_frac=val_frac,\n",
    "    n_folds=n_folds, shuffle=True, shuffle_seed=1)"
   ]
  },
  {
   "cell_type": "code",
   "execution_count": 5,
   "metadata": {
    "collapsed": false
   },
   "outputs": [
    {
     "name": "stdout",
     "output_type": "stream",
     "text": [
      "Optimizer parameters = {'lr': 0.001}\n",
      "\n",
      "Training on 1080 samples, validating on 120 samples.\n",
      "Datasets from datasets/shrink_1p2_train_kf0.h5.\n",
      "Epoch 21/100: epochs w/o increase = 10, AUC = 5.72294165325                    \n",
      "Patience tolerance reached.\n",
      "Training complete. Best AUC = 5.79107925547\n",
      "\n",
      "Testing on 600 samples.\n",
      "Dataset from datasets/shrink_1p2_train_kf0.h5.\n",
      "Score    = 0.608583737214\n",
      "AUC      = 10.5139868848\n",
      "Accuracy = 410/600 = 0.683333333333\n",
      "\n",
      "Training on 1080 samples, validating on 120 samples.\n",
      "Datasets from datasets/shrink_1p2_train_kf1.h5.\n",
      "Epoch 17/100: epochs w/o increase = 10, AUC = 4.58162393162                    \n",
      "Patience tolerance reached.\n",
      "Training complete. Best AUC = 15.2409090909\n",
      "\n",
      "Testing on 600 samples.\n",
      "Dataset from datasets/shrink_1p2_train_kf1.h5.\n",
      "Score    = 0.650022788445\n",
      "AUC      = 9.5622759283\n",
      "Accuracy = 387/600 = 0.645\n",
      "\n",
      "Training on 1080 samples, validating on 120 samples.\n",
      "Datasets from datasets/shrink_1p2_train_kf2.h5.\n",
      "Epoch 18/100: epochs w/o increase = 10, AUC = 9.99070717839                    \n",
      "Patience tolerance reached.\n",
      "Training complete. Best AUC = 12.3357376284\n",
      "\n",
      "Testing on 600 samples.\n",
      "Dataset from datasets/shrink_1p2_train_kf2.h5.\n",
      "Score    = 0.566120424271\n",
      "AUC      = 7.86842839356\n",
      "Accuracy = 430/600 = 0.716666666667\n",
      "\n",
      "Optimizer parameters = {'lr': 0.002}\n",
      "\n",
      "Training on 1080 samples, validating on 120 samples.\n",
      "Datasets from datasets/shrink_1p2_train_kf0.h5.\n",
      "Epoch 48/100: epochs w/o increase = 10, AUC = 6.55113736532                    \n",
      "Patience tolerance reached.\n",
      "Training complete. Best AUC = 12.7254859723\n",
      "\n",
      "Testing on 600 samples.\n",
      "Dataset from datasets/shrink_1p2_train_kf0.h5.\n",
      "Score    = 0.576609673103\n",
      "AUC      = 10.2213673371\n",
      "Accuracy = 442/600 = 0.736666666667\n",
      "\n",
      "Training on 1080 samples, validating on 120 samples.\n",
      "Datasets from datasets/shrink_1p2_train_kf1.h5.\n",
      "Epoch 19/100: epochs w/o increase = 10, AUC = 4.81098901099                    \n",
      "Patience tolerance reached.\n",
      "Training complete. Best AUC = 19.5837662338\n",
      "\n",
      "Testing on 600 samples.\n",
      "Dataset from datasets/shrink_1p2_train_kf1.h5.\n",
      "Score    = 0.607508144379\n",
      "AUC      = 9.6599608173\n",
      "Accuracy = 405/600 = 0.675\n",
      "\n",
      "Training on 1080 samples, validating on 120 samples.\n",
      "Datasets from datasets/shrink_1p2_train_kf2.h5.\n",
      "Epoch 15/100: epochs w/o increase = 10, AUC = 8.46568058807                    \n",
      "Patience tolerance reached.\n",
      "Training complete. Best AUC = 11.9466909371\n",
      "\n",
      "Testing on 600 samples.\n",
      "Dataset from datasets/shrink_1p2_train_kf2.h5.\n",
      "Score    = 0.603953919411\n",
      "AUC      = 8.80325456072\n",
      "Accuracy = 396/600 = 0.66\n",
      "\n"
     ]
    },
    {
     "data": {
      "text/plain": [
       "[{'optimizer_kwargs': {'lr': 0.001},\n",
       "  'results': {'AUCs': [10.513986884767395,\n",
       "    9.5622759283034391,\n",
       "    7.8684283935623611],\n",
       "   'accuracies': [0.6833333333333333, 0.645, 0.7166666666666667],\n",
       "   'scores': [0.60858373721440628, 0.65002278844515482, 0.56612042427062992]}},\n",
       " {'optimizer_kwargs': {'lr': 0.002},\n",
       "  'results': {'AUCs': [10.221367337100842,\n",
       "    9.6599608172979643,\n",
       "    8.8032545607159989],\n",
       "   'accuracies': [0.7366666666666667, 0.675, 0.66],\n",
       "   'scores': [0.57660967310269673, 0.60750814437866207, 0.60395391941070553]}}]"
      ]
     },
     "execution_count": 5,
     "metadata": {},
     "output_type": "execute_result"
    }
   ],
   "source": [
    "optimizer_grid_search(get_maxout, (25**2,), Adam, {'lr' : [0.001, 0.002]},\n",
    "                      h5_files['train'], model_name=model_name, verbose=2, max_jobs=1)"
   ]
  },
  {
   "cell_type": "code",
   "execution_count": 6,
   "metadata": {
    "collapsed": false
   },
   "outputs": [
    {
     "name": "stdout",
     "output_type": "stream",
     "text": [
      "Testing on 200 samples.\n",
      "Dataset from datasets/shrink_1p2_test.h5.\n",
      "Score    = 0.660318310261\n",
      "AUC      = 7.06739691104\n",
      "Accuracy = 115/200 = 0.575\n",
      "\n"
     ]
    },
    {
     "data": {
      "image/png": "[encoded data removed]",
      "text/plain": [
       "<matplotlib.figure.Figure at 0x11db49050>"
      ]
     },
     "metadata": {},
     "output_type": "display_data"
    }
   ],
   "source": [
    "_ = test_model(load_model('models/maxout_shrink_1p2_kf1'), h5_files['test'])"
   ]
  },
  {
   "cell_type": "code",
   "execution_count": null,
   "metadata": {
    "collapsed": true
   },
   "outputs": [],
   "source": []
  }
 ],
 "metadata": {
  "kernelspec": {
   "display_name": "Python 2",
   "language": "python",
   "name": "python2"
  },
  "language_info": {
   "codemirror_mode": {
    "name": "ipython",
    "version": 2
   },
   "file_extension": ".py",
   "mimetype": "text/x-python",
   "name": "python",
   "nbconvert_exporter": "python",
   "pygments_lexer": "ipython2",
   "version": "2.7.11"
  }
 },
 "nbformat": 4,
 "nbformat_minor": 0
}
