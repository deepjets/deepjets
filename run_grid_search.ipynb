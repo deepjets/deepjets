{
 "cells": [
  {
   "cell_type": "code",
   "execution_count": null,
   "metadata": {
    "collapsed": false
   },
   "outputs": [],
   "source": [
    "%load_ext autoreload\n",
    "%autoreload 2\n",
    "%matplotlib inline"
   ]
  },
  {
   "cell_type": "code",
   "execution_count": null,
   "metadata": {
    "collapsed": false
   },
   "outputs": [],
   "source": [
    "import deepjets.models as djm\n",
    "import deepjets.learning as djl\n",
    "from keras.optimizers import Adam"
   ]
  },
  {
   "cell_type": "code",
   "execution_count": null,
   "metadata": {
    "collapsed": true
   },
   "outputs": [],
   "source": [
    "n_images = 50000\n",
    "n_folds = 3\n",
    "test_frac = 0.1\n",
    "val_frac = 0.1\n",
    "sig_file = 'images/w_shrink_1p2.h5'\n",
    "bkd_file = 'images/qcd_shrink_1p2.h5'\n",
    "dataset_name = 'datasets/shrink_1p2'\n",
    "model_name = 'models/maxout_shrink_1p2'"
   ]
  },
  {
   "cell_type": "code",
   "execution_count": null,
   "metadata": {
    "collapsed": false
   },
   "outputs": [],
   "source": [
    "h5_files = djl.prepare_datasets(\n",
    "    sig_file, bkd_file, dataset_name,\n",
    "    n_sig=n_images, n_bkd=n_images, test_frac=test_frac, val_frac=val_frac,\n",
    "    n_folds=n_folds, shuffle=True, shuffle_seed=1)"
   ]
  },
  {
   "cell_type": "code",
   "execution_count": null,
   "metadata": {
    "collapsed": false
   },
   "outputs": [],
   "source": [
    "gs_results = djl.optimizer_grid_search(\n",
    "    djm.get_maxout, (25**2,), Adam, {'lr' : [0.0005, 0.001, 0.002]},\n",
    "    h5_files['train'], model_name=model_name, verbose=2, max_jobs=-1, log_to_file=True)"
   ]
  },
  {
   "cell_type": "code",
   "execution_count": null,
   "metadata": {
    "collapsed": false
   },
   "outputs": [],
   "source": [
    "_ = djl.test_model(djm.load_model('models/maxout_shrink_1p2_gp1_kf0'), h5_files['test'])"
   ]
  },
  {
   "cell_type": "code",
   "execution_count": null,
   "metadata": {
    "collapsed": false
   },
   "outputs": [],
   "source": [
    "print djl.select_best_model(gs_results)"
   ]
  },
  {
   "cell_type": "code",
   "execution_count": null,
   "metadata": {
    "collapsed": true
   },
   "outputs": [],
   "source": []
  }
 ],
 "metadata": {
  "kernelspec": {
   "display_name": "Python 2",
   "language": "python",
   "name": "python2"
  },
  "language_info": {
   "codemirror_mode": {
    "name": "ipython",
    "version": 2
   },
   "file_extension": ".py",
   "mimetype": "text/x-python",
   "name": "python",
   "nbconvert_exporter": "python",
   "pygments_lexer": "ipython2",
   "version": "2.7.11"
  }
 },
 "nbformat": 4,
 "nbformat_minor": 0
}
