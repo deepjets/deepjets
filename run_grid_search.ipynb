{
 "cells": [
  {
   "cell_type": "code",
   "execution_count": 1,
   "metadata": {
    "collapsed": false
   },
   "outputs": [],
   "source": [
    "%load_ext autoreload\n",
    "%autoreload 2\n",
    "%matplotlib inline"
   ]
  },
  {
   "cell_type": "code",
   "execution_count": 2,
   "metadata": {
    "collapsed": false
   },
   "outputs": [
    {
     "name": "stdout",
     "output_type": "stream",
     "text": [
      "Using Theano backend.\n"
     ]
    }
   ],
   "source": [
    "import deepjets.models as djm\n",
    "import deepjets.learning as djl\n",
    "import numpy as np\n",
    "from keras.optimizers import Adam"
   ]
  },
  {
   "cell_type": "code",
   "execution_count": 3,
   "metadata": {
    "collapsed": true
   },
   "outputs": [],
   "source": [
    "n_images = 2000\n",
    "n_folds = 2\n",
    "test_frac = 0.1\n",
    "val_frac = 0.1\n",
    "sig_file = 'images/w_shrink_1p2.h5'\n",
    "bkd_file = 'images/qcd_shrink_1p2.h5'\n",
    "dataset_name = 'datasets/shrink_1p2'\n",
    "model_name = 'models/maxout_shrink_1p2'"
   ]
  },
  {
   "cell_type": "code",
   "execution_count": 4,
   "metadata": {
    "collapsed": false
   },
   "outputs": [],
   "source": [
    "h5_files = djl.prepare_datasets(\n",
    "    sig_file, bkd_file, dataset_name,\n",
    "    n_sig=n_images, n_bkd=n_images, test_frac=test_frac, val_frac=val_frac,\n",
    "    n_folds=n_folds, shuffle=True, shuffle_seed=1)"
   ]
  },
  {
   "cell_type": "code",
   "execution_count": 5,
   "metadata": {
    "collapsed": false
   },
   "outputs": [
    {
     "name": "stdout",
     "output_type": "stream",
     "text": [
      "Compiling models...\n",
      "\n",
      "Initialising cross-validation...\n",
      "\n",
      "Optimizer parameters = {'lr': 0.001}, k-fold = 0\n",
      "Optimizer parameters = {'lr': 0.001}, k-fold = 1\n",
      "Training on 1620 samples, validating on 180 samples.\n",
      "Datasets from datasets/shrink_1p2_train_kf0.h5.Training on 1620 samples, validating on 180 samples.\n",
      "Datasets from datasets/shrink_1p2_train_kf1.h5.\n",
      "\n",
      "\n",
      "Patience tolerance reached.\n",
      "Patience tolerance reached.\n",
      "\n",
      "Training complete. Best AUC = 13.8807176436\n",
      "Training complete. Best AUC = 11.6811346717\n",
      "\n",
      "\n",
      "Testing on 1800 samples.\n",
      "Dataset from datasets/shrink_1p2_train_kf0.h5.Testing on 1800 samples.\n",
      "Dataset from datasets/shrink_1p2_train_kf1.h5.\n",
      "\n",
      "\n",
      "\n",
      "\n",
      "\n",
      "Optimizer parameters = {'lr': 0.002}, k-fold = 0\n",
      "Optimizer parameters = {'lr': 0.002}, k-fold = 1\n",
      "Training on 1620 samples, validating on 180 samples.\n",
      "Datasets from datasets/shrink_1p2_train_kf0.h5.Training on 1620 samples, validating on 180 samples.\n",
      "Datasets from datasets/shrink_1p2_train_kf1.h5.\n",
      "\n",
      "\n",
      "Patience tolerance reached.\n",
      "Patience tolerance reached.\n",
      "\n",
      "Training complete. Best AUC = 13.6466551841\n",
      "Training complete. Best AUC = 12.482363402\n",
      "\n",
      "\n",
      "Testing on 1800 samples.\n",
      "Dataset from datasets/shrink_1p2_train_kf0.h5.Testing on 1800 samples.\n",
      "Dataset from datasets/shrink_1p2_train_kf1.h5.\n",
      "\n",
      "\n",
      "\n",
      "\n",
      "\n"
     ]
    }
   ],
   "source": [
    "gs_results, gs_new_results = djl.optimizer_grid_search(\n",
    "    djm.get_maxout, (25**2,), Adam, {'lr' : [0.001, 0.002]},\n",
    "    h5_files['train'], model_name=model_name, verbose=2, max_jobs=2)"
   ]
  },
  {
   "cell_type": "code",
   "execution_count": 6,
   "metadata": {
    "collapsed": false
   },
   "outputs": [
    {
     "name": "stdout",
     "output_type": "stream",
     "text": [
      "Testing on 400 samples.\n",
      "Dataset from datasets/shrink_1p2_test.h5.\n",
      "Score    = 0.556465821266\n",
      "AUC      = 10.6004241709\n",
      "Accuracy = 290/400 = 0.725\n",
      "\n"
     ]
    },
    {
     "data": {
      "image/png": "[encoded data removed]",
      "text/plain": [
       "<matplotlib.figure.Figure at 0x11f2a5850>"
      ]
     },
     "metadata": {},
     "output_type": "display_data"
    }
   ],
   "source": [
    "_ = djl.test_model(djm.load_model('models/maxout_shrink_1p2_gp1_kf0'), h5_files['test'])"
   ]
  },
  {
   "cell_type": "code",
   "execution_count": 7,
   "metadata": {
    "collapsed": false
   },
   "outputs": [
    {
     "data": {
      "text/plain": [
       "[{'igp': 0,\n",
       "  'ikf': 0,\n",
       "  'parameters': {'lr': 0.001},\n",
       "  'results': {'AUC': 10.64555886824491,\n",
       "   'accuracy': 0.71,\n",
       "   'score': 0.58134057362874347}},\n",
       " {'igp': 0,\n",
       "  'ikf': 1,\n",
       "  'parameters': {'lr': 0.001},\n",
       "  'results': {'AUC': 14.217114429627214,\n",
       "   'accuracy': 0.705,\n",
       "   'score': 0.57444962713453507}},\n",
       " {'igp': 1,\n",
       "  'ikf': 0,\n",
       "  'parameters': {'lr': 0.002},\n",
       "  'results': {'AUC': 8.2003299555018359,\n",
       "   'accuracy': 0.7172222222222222,\n",
       "   'score': 0.57153622706731155}},\n",
       " {'igp': 1,\n",
       "  'ikf': 1,\n",
       "  'parameters': {'lr': 0.002},\n",
       "  'results': {'AUC': 14.317574520893881,\n",
       "   'accuracy': 0.7322222222222222,\n",
       "   'score': 0.56547613779703776}}]"
      ]
     },
     "execution_count": 7,
     "metadata": {},
     "output_type": "execute_result"
    }
   ],
   "source": [
    "gs_results"
   ]
  },
  {
   "cell_type": "code",
   "execution_count": 8,
   "metadata": {
    "collapsed": false
   },
   "outputs": [
    {
     "data": {
      "text/plain": [
       "[{'parameters': {'lr': 0.001},\n",
       "  'results': {'AUC': array([ 10.64555887,  14.21711443]),\n",
       "   'accuracy': array([ 0.71 ,  0.705]),\n",
       "   'score': array([ 0.58134057,  0.57444963])}},\n",
       " {'parameters': {'lr': 0.002},\n",
       "  'results': {'AUC': array([  8.20032996,  14.31757452]),\n",
       "   'accuracy': array([ 0.71722222,  0.73222222]),\n",
       "   'score': array([ 0.57153623,  0.56547614])}}]"
      ]
     },
     "execution_count": 8,
     "metadata": {},
     "output_type": "execute_result"
    }
   ],
   "source": [
    "gs_new_results"
   ]
  },
  {
   "cell_type": "code",
   "execution_count": null,
   "metadata": {
    "collapsed": true
   },
   "outputs": [],
   "source": []
  }
 ],
 "metadata": {
  "kernelspec": {
   "display_name": "Python 2",
   "language": "python",
   "name": "python2"
  },
  "language_info": {
   "codemirror_mode": {
    "name": "ipython",
    "version": 2
   },
   "file_extension": ".py",
   "mimetype": "text/x-python",
   "name": "python",
   "nbconvert_exporter": "python",
   "pygments_lexer": "ipython2",
   "version": "2.7.11"
  }
 },
 "nbformat": 4,
 "nbformat_minor": 0
}
