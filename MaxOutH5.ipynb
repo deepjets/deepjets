{
 "cells": [
  {
   "cell_type": "code",
   "execution_count": 1,
   "metadata": {
    "collapsed": true
   },
   "outputs": [],
   "source": [
    "%matplotlib inline"
   ]
  },
  {
   "cell_type": "code",
   "execution_count": 2,
   "metadata": {
    "collapsed": false
   },
   "outputs": [
    {
     "name": "stdout",
     "output_type": "stream",
     "text": [
      "Using Theano backend.\n"
     ]
    }
   ],
   "source": [
    "from deepjets.models import get_maxout, load_model, save_model\n",
    "from deepjets.learning import prepare_datasets, test_model, train_model\n",
    "from keras.optimizers import Adam\n",
    "from sklearn import cross_validation\n",
    "from sklearn.metrics import auc, roc_curve\n",
    "import h5py\n",
    "import itertools\n",
    "import matplotlib.pyplot as plt\n",
    "import numpy as np"
   ]
  },
  {
   "cell_type": "code",
   "execution_count": 3,
   "metadata": {
    "collapsed": true
   },
   "outputs": [],
   "source": [
    "model = get_maxout(25**2)"
   ]
  },
  {
   "cell_type": "code",
   "execution_count": 4,
   "metadata": {
    "collapsed": true
   },
   "outputs": [],
   "source": [
    "n_images = -1       # number of signal/background images to be loaded\n",
    "n_folds = 2         # number of k-folds for train/test splitting\n",
    "val_frac = 0.1      # fraction of n_train reserved for validation\n",
    "batch_size = 32     # batch size to use in training\n",
    "sig_file = 'images/w_shrink_1p2.h5'\n",
    "bkd_file = 'images/qcd_shrink_1p2.h5'"
   ]
  },
  {
   "cell_type": "code",
   "execution_count": 5,
   "metadata": {
    "collapsed": false
   },
   "outputs": [],
   "source": [
    "kf_files = prepare_datasets(\n",
    "    sig_file, bkd_file, out_file_name='datasets/train_test',\n",
    "    n_sig=n_images, n_bkd=n_images, n_folds=n_folds,\n",
    "    shuffle=True, shuffle_seed=1)"
   ]
  },
  {
   "cell_type": "code",
   "execution_count": 6,
   "metadata": {
    "collapsed": false
   },
   "outputs": [
    {
     "name": "stdout",
     "output_type": "stream",
     "text": [
      "Epoch 1/100...\n",
      "Epochs w/o increase = 0, AUC = 6.33539638898\n",
      "Epoch 2/100...\n",
      "Epochs w/o increase = 0, AUC = 6.4233849444\n",
      "Epoch 3/100...\n",
      "Epochs w/o increase = 0, AUC = 8.30383923798\n",
      "Epoch 4/100...\n",
      "Epochs w/o increase = 0, AUC = 9.06966555916\n",
      "Epoch 5/100...\n",
      "Epochs w/o increase = 0, AUC = 9.62662518732\n",
      "Epoch 6/100...\n",
      "Epochs w/o increase = 0, AUC = 9.74483473294\n",
      "Epoch 7/100...\n",
      "Epochs w/o increase = 0, AUC = 11.6537558583\n",
      "Epoch 8/100...\n",
      "Epochs w/o increase = 0, AUC = 14.681436645\n",
      "Epoch 9/100...\n",
      "Epochs w/o increase = 1, AUC = 12.1380486057\n",
      "Epoch 10/100...\n",
      "Epochs w/o increase = 0, AUC = 15.9783311111\n",
      "Epoch 11/100...\n",
      "Epochs w/o increase = 0, AUC = 18.656936802\n",
      "Epoch 12/100...\n",
      "Epochs w/o increase = 1, AUC = 12.8326693945\n",
      "Epoch 13/100...\n",
      "Epochs w/o increase = 2, AUC = 17.7134070975\n",
      "Epoch 14/100...\n",
      "Epochs w/o increase = 3, AUC = 17.9884513232\n",
      "Epoch 15/100...\n",
      "Epochs w/o increase = 0, AUC = 20.4079847244\n",
      "Epoch 16/100...\n",
      "Epochs w/o increase = 0, AUC = 20.5090833358\n",
      "Epoch 17/100...\n",
      "Epochs w/o increase = 0, AUC = 20.8167325286\n",
      "Epoch 18/100...\n",
      "Epochs w/o increase = 1, AUC = 20.6662195368\n",
      "Epoch 19/100...\n",
      "Epochs w/o increase = 2, AUC = 17.6064364385\n",
      "Epoch 20/100...\n",
      "Epochs w/o increase = 3, AUC = 20.266593831\n",
      "Epoch 21/100...\n",
      "Epochs w/o increase = 0, AUC = 21.0527588966\n",
      "Epoch 22/100...\n",
      "Epochs w/o increase = 0, AUC = 21.3602852266\n",
      "Epoch 23/100...\n",
      "Epochs w/o increase = 1, AUC = 15.5716841841\n",
      "Epoch 24/100...\n",
      "Epochs w/o increase = 2, AUC = 20.7952271151\n",
      "Epoch 25/100...\n",
      "Epochs w/o increase = 3, AUC = 21.1765635239\n",
      "Epoch 26/100...\n",
      "Epochs w/o increase = 4, AUC = 21.0320918789\n",
      "Epoch 27/100...\n",
      "Epochs w/o increase = 5, AUC = 19.682662693\n",
      "Epoch 28/100...\n",
      "Epochs w/o increase = 6, AUC = 19.3509229093\n",
      "Epoch 29/100...\n",
      "Epochs w/o increase = 0, AUC = 21.7805812377\n",
      "Epoch 30/100...\n",
      "Epochs w/o increase = 1, AUC = 20.9356559836\n",
      "Epoch 31/100...\n",
      "Epochs w/o increase = 2, AUC = 21.3068190802\n",
      "Epoch 32/100...\n",
      "Epochs w/o increase = 0, AUC = 21.8786651658\n",
      "Epoch 33/100...\n",
      "Epochs w/o increase = 1, AUC = 20.1349201457\n",
      "Epoch 34/100...\n",
      "Epochs w/o increase = 0, AUC = 22.1417412783\n",
      "Epoch 35/100...\n",
      "Epochs w/o increase = 1, AUC = 21.6714821924\n",
      "Epoch 36/100...\n",
      "Epochs w/o increase = 2, AUC = 21.8189660813\n",
      "Epoch 37/100...\n",
      "Epochs w/o increase = 0, AUC = 22.4232544518\n",
      "Epoch 38/100...\n",
      "Epochs w/o increase = 1, AUC = 21.3903930427\n",
      "Epoch 39/100...\n",
      "Epochs w/o increase = 2, AUC = 20.8982166359\n",
      "Epoch 40/100...\n",
      "Epochs w/o increase = 3, AUC = 20.0780775144\n",
      "Epoch 41/100...\n",
      "Epochs w/o increase = 4, AUC = 21.5718306898\n",
      "Epoch 42/100...\n",
      "Epochs w/o increase = 5, AUC = 21.2466400522\n",
      "Epoch 43/100...\n",
      "Epochs w/o increase = 6, AUC = 20.6286653346\n",
      "Epoch 44/100...\n",
      "Epochs w/o increase = 7, AUC = 21.9307449921\n",
      "Epoch 45/100...\n",
      "Epochs w/o increase = 8, AUC = 21.8621709006\n",
      "Epoch 46/100...\n",
      "Epochs w/o increase = 0, AUC = 22.8304212762\n",
      "Epoch 47/100...\n",
      "Epochs w/o increase = 1, AUC = 21.0328074325\n",
      "Epoch 48/100...\n",
      "Epochs w/o increase = 2, AUC = 21.4225301339\n",
      "Epoch 49/100...\n",
      "Epochs w/o increase = 3, AUC = 20.0378325189\n",
      "Epoch 50/100...\n",
      "Epochs w/o increase = 4, AUC = 19.6278767856\n",
      "Epoch 51/100...\n",
      "Epochs w/o increase = 5, AUC = 16.5087806265\n",
      "Epoch 52/100...\n",
      "Epochs w/o increase = 6, AUC = 19.3815395024\n",
      "Epoch 53/100...\n",
      "Epochs w/o increase = 0, AUC = 23.1396233372\n",
      "Epoch 54/100...\n",
      "Epochs w/o increase = 0, AUC = 23.6707586242\n",
      "Epoch 55/100...\n",
      "Epochs w/o increase = 1, AUC = 21.3375487498\n",
      "Epoch 56/100...\n",
      "Epochs w/o increase = 2, AUC = 21.7906500588\n",
      "Epoch 57/100...\n",
      "Epochs w/o increase = 3, AUC = 19.1237154117\n",
      "Epoch 58/100...\n",
      "Epochs w/o increase = 4, AUC = 22.7815647915\n",
      "Epoch 59/100...\n",
      "Epochs w/o increase = 5, AUC = 22.837147439\n",
      "Epoch 60/100...\n",
      "Epochs w/o increase = 6, AUC = 22.2687822117\n",
      "Epoch 61/100...\n",
      "Epochs w/o increase = 7, AUC = 20.2755496132\n",
      "Epoch 62/100...\n",
      "Epochs w/o increase = 8, AUC = 22.4831033967\n",
      "Epoch 63/100...\n",
      "Epochs w/o increase = 9, AUC = 22.5430542316\n",
      "Epoch 64/100...\n",
      "Epochs w/o increase = 0, AUC = 24.69238163\n",
      "Epoch 65/100...\n",
      "Epochs w/o increase = 1, AUC = 23.3385190887\n",
      "Epoch 66/100...\n",
      "Epochs w/o increase = 2, AUC = 20.4212793621\n",
      "Epoch 67/100...\n",
      "Epochs w/o increase = 3, AUC = 16.8345740329\n",
      "Epoch 68/100...\n",
      "Epochs w/o increase = 4, AUC = 21.3294777204\n",
      "Epoch 69/100...\n",
      "Epochs w/o increase = 5, AUC = 21.0391682843\n",
      "Epoch 70/100...\n",
      "Epochs w/o increase = 6, AUC = 23.0861251377\n",
      "Epoch 71/100...\n",
      "Epochs w/o increase = 7, AUC = 22.1696454713\n",
      "Epoch 72/100...\n",
      "Epochs w/o increase = 8, AUC = 20.2958391149\n",
      "Epoch 73/100...\n",
      "Epochs w/o increase = 9, AUC = 21.0992538851\n",
      "Epoch 74/100...\n",
      "Epochs w/o increase = 10, AUC = 20.1526058548\n",
      "Patience tolerance reached\n",
      "Training complete\n"
     ]
    }
   ],
   "source": [
    "train_model(model, kf_files[0], batch_size)"
   ]
  },
  {
   "cell_type": "code",
   "execution_count": 7,
   "metadata": {
    "collapsed": false
   },
   "outputs": [
    {
     "name": "stdout",
     "output_type": "stream",
     "text": [
      "Score    = 0.522353523016\n",
      "AUC      = 20.4830926076\n",
      "Accuracy = 38115/50000 = 0.7623\n"
     ]
    },
    {
     "data": {
      "image/png": "[encoded data removed]",
      "text/plain": [
       "<matplotlib.figure.Figure at 0x1071c2710>"
      ]
     },
     "metadata": {},
     "output_type": "display_data"
    }
   ],
   "source": [
    "test_model(model, kf_files[0], batch_size)"
   ]
  },
  {
   "cell_type": "code",
   "execution_count": null,
   "metadata": {
    "collapsed": true
   },
   "outputs": [],
   "source": []
  }
 ],
 "metadata": {
  "kernelspec": {
   "display_name": "Python 2",
   "language": "python",
   "name": "python2"
  },
  "language_info": {
   "codemirror_mode": {
    "name": "ipython",
    "version": 2
   },
   "file_extension": ".py",
   "mimetype": "text/x-python",
   "name": "python",
   "nbconvert_exporter": "python",
   "pygments_lexer": "ipython2",
   "version": "2.7.11"
  }
 },
 "nbformat": 4,
 "nbformat_minor": 0
}
