{
 "cells": [
  {
   "cell_type": "code",
   "execution_count": 1,
   "metadata": {
    "collapsed": true
   },
   "outputs": [],
   "source": [
    "%load_ext autoreload\n",
    "%autoreload 2\n",
    "%matplotlib inline"
   ]
  },
  {
   "cell_type": "code",
   "execution_count": 2,
   "metadata": {
    "collapsed": false
   },
   "outputs": [
    {
     "name": "stdout",
     "output_type": "stream",
     "text": [
      "Using Theano backend.\n"
     ]
    }
   ],
   "source": [
    "from deepjets.models import get_maxout, load_model, save_model\n",
    "from deepjets.learning import prepare_datasets, test_model, train_model\n",
    "from keras.optimizers import Adam\n",
    "from sklearn import cross_validation\n",
    "from sklearn.metrics import auc, roc_curve\n",
    "import h5py\n",
    "import itertools\n",
    "import matplotlib.pyplot as plt\n",
    "import numpy as np"
   ]
  },
  {
   "cell_type": "code",
   "execution_count": 3,
   "metadata": {
    "collapsed": true
   },
   "outputs": [],
   "source": [
    "model = get_maxout(25**2)"
   ]
  },
  {
   "cell_type": "code",
   "execution_count": 4,
   "metadata": {
    "collapsed": true
   },
   "outputs": [],
   "source": [
    "n_images = 10000\n",
    "n_folds = 1\n",
    "test_frac = 0.1\n",
    "val_frac = 0.1\n",
    "batch_size = 32\n",
    "sig_file = 'images/w_shrink_1p2.h5'\n",
    "bkd_file = 'images/qcd_shrink_1p2.h5'\n",
    "dataset_name = 'datasets/shrink_1p2'\n",
    "model_name = 'models/maxout_shrink_1p2'"
   ]
  },
  {
   "cell_type": "code",
   "execution_count": 5,
   "metadata": {
    "collapsed": false
   },
   "outputs": [],
   "source": [
    "kf_files = prepare_datasets(\n",
    "    sig_file, bkd_file, dataset_name,\n",
    "    n_sig=n_images, n_bkd=n_images, test_frac=test_frac, val_frac=val_frac,\n",
    "    n_folds=n_folds, shuffle=True, shuffle_seed=1)"
   ]
  },
  {
   "cell_type": "code",
   "execution_count": 6,
   "metadata": {
    "collapsed": false
   },
   "outputs": [
    {
     "name": "stdout",
     "output_type": "stream",
     "text": [
      "Training on 16200 samples, validating on 1800 sample from datasets/shrink_1p2_train.h5\n",
      "Epoch 1/100...\n",
      "Epochs w/o increase = 0, AUC = 6.28587135192\n",
      "Epoch 2/100...\n",
      "Epochs w/o increase = 0, AUC = 7.22297402601\n",
      "Epoch 3/100...\n",
      "Epochs w/o increase = 0, AUC = 20.022082744\n",
      "Epoch 4/100...\n",
      "Epochs w/o increase = 1, AUC = 19.8826298542\n",
      "Epoch 5/100...\n",
      "Epochs w/o increase = 2, AUC = 19.8226464945\n",
      "Epoch 6/100...\n",
      "Epochs w/o increase = 0, AUC = 23.5887045697\n",
      "Epoch 7/100...\n",
      "Epochs w/o increase = 1, AUC = 18.3194562625\n",
      "Epoch 8/100...\n",
      "Epochs w/o increase = 2, AUC = 20.5920771676\n",
      "Epoch 9/100...\n",
      "Epochs w/o increase = 3, AUC = 20.1746757828\n",
      "Epoch 10/100...\n",
      "Epochs w/o increase = 4, AUC = 21.3339081993\n",
      "Epoch 11/100...\n",
      "Epochs w/o increase = 5, AUC = 19.1517461568\n",
      "Epoch 12/100...\n",
      "Epochs w/o increase = 6, AUC = 22.6680704333\n",
      "Epoch 13/100...\n",
      "Epochs w/o increase = 7, AUC = 22.8850795008\n",
      "Epoch 14/100...\n",
      "Epochs w/o increase = 8, AUC = 22.6204648168\n",
      "Epoch 15/100...\n",
      "Epochs w/o increase = 9, AUC = 21.2834442978\n",
      "Epoch 16/100...\n",
      "Epochs w/o increase = 10, AUC = 22.4192123826\n",
      "Patience tolerance reached\n",
      "Training complete\n"
     ]
    }
   ],
   "source": [
    "train_model(model, kf_files['train'], batch_size, model_name=model_name, verbose=2)"
   ]
  },
  {
   "cell_type": "code",
   "execution_count": 9,
   "metadata": {
    "collapsed": false
   },
   "outputs": [
    {
     "name": "stdout",
     "output_type": "stream",
     "text": [
      "Testing on 2000 samples, dataset from datasets/shrink_1p2_test.h5\n",
      "Score    = 0.512686077118\n",
      "AUC      = 29.2608360783\n",
      "Accuracy = 1516/2000 = 0.758\n"
     ]
    },
    {
     "data": {
      "image/png": "[encoded data removed]",
      "text/plain": [
       "<matplotlib.figure.Figure at 0x10b945d10>"
      ]
     },
     "metadata": {},
     "output_type": "display_data"
    }
   ],
   "source": [
    "test_model(model, kf_files['test'], batch_size)"
   ]
  },
  {
   "cell_type": "code",
   "execution_count": null,
   "metadata": {
    "collapsed": true
   },
   "outputs": [],
   "source": []
  }
 ],
 "metadata": {
  "kernelspec": {
   "display_name": "Python 2",
   "language": "python",
   "name": "python2"
  },
  "language_info": {
   "codemirror_mode": {
    "name": "ipython",
    "version": 2
   },
   "file_extension": ".py",
   "mimetype": "text/x-python",
   "name": "python",
   "nbconvert_exporter": "python",
   "pygments_lexer": "ipython2",
   "version": "2.7.11"
  }
 },
 "nbformat": 4,
 "nbformat_minor": 0
}
