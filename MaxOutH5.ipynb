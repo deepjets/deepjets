{
 "cells": [
  {
   "cell_type": "code",
   "execution_count": 1,
   "metadata": {
    "collapsed": true
   },
   "outputs": [],
   "source": [
    "%matplotlib inline"
   ]
  },
  {
   "cell_type": "code",
   "execution_count": 2,
   "metadata": {
    "collapsed": false
   },
   "outputs": [
    {
     "name": "stdout",
     "output_type": "stream",
     "text": [
      "Using Theano backend.\n"
     ]
    }
   ],
   "source": [
    "from deepjets.models import get_maxout, load_model, save_model\n",
    "from deepjets.learning import prepare_datasets, test_model, train_model\n",
    "from keras.optimizers import Adam\n",
    "from sklearn import cross_validation\n",
    "from sklearn.metrics import auc, roc_curve\n",
    "import h5py\n",
    "import itertools\n",
    "import matplotlib.pyplot as plt\n",
    "import numpy as np"
   ]
  },
  {
   "cell_type": "code",
   "execution_count": 3,
   "metadata": {
    "collapsed": true
   },
   "outputs": [],
   "source": [
    "model = get_maxout(25**2)"
   ]
  },
  {
   "cell_type": "code",
   "execution_count": 4,
   "metadata": {
    "collapsed": true
   },
   "outputs": [],
   "source": [
    "n_images = 1000       # number of signal/background images to be loaded\n",
    "n_folds = 2         # number of k-folds for train/test splitting\n",
    "val_frac = 0.1      # fraction of n_train reserved for validation\n",
    "batch_size = 32     # batch size to use in training\n",
    "sig_file = 'images/w_shrink_1p2.h5'\n",
    "bkd_file = 'images/qcd_shrink_1p2.h5'"
   ]
  },
  {
   "cell_type": "code",
   "execution_count": null,
   "metadata": {
    "collapsed": true
   },
   "outputs": [],
   "source": [
    "with h5py.File(sig_file, 'r') as h5file:\n",
    "    h5file."
   ]
  },
  {
   "cell_type": "code",
   "execution_count": 5,
   "metadata": {
    "collapsed": false
   },
   "outputs": [],
   "source": [
    "kf_files = prepare_datasets(\n",
    "    sig_file, bkd_file, out_file_name='datasets/train_test',\n",
    "    n_sig=n_images, n_bkd=n_images, n_folds=n_folds,\n",
    "    shuffle=True, shuffle_seed=1)"
   ]
  },
  {
   "cell_type": "code",
   "execution_count": 6,
   "metadata": {
    "collapsed": false
   },
   "outputs": [
    {
     "name": "stdout",
     "output_type": "stream",
     "text": [
      "Epoch 1/100...\n",
      "Epochs w/o increase = 0, AUC = 2.09406918561\n",
      "Epoch 2/100...\n",
      "Epochs w/o increase = 0, AUC = 3.6819222487\n",
      "Epoch 3/100...\n",
      "Epochs w/o increase = 0, AUC = 5.79796569741\n",
      "Epoch 4/100...\n",
      "Epochs w/o increase = 0, AUC = 5.82282030659\n",
      "Epoch 5/100...\n",
      "Epochs w/o increase = 1, AUC = 5.34844134661\n",
      "Epoch 6/100...\n",
      "Epochs w/o increase = 2, AUC = 5.23428453195\n",
      "Epoch 7/100...\n",
      "Epochs w/o increase = 3, AUC = 5.19158358505\n",
      "Epoch 8/100...\n",
      "Epochs w/o increase = 4, AUC = 5.00860106348\n",
      "Epoch 9/100...\n",
      "Epochs w/o increase = 5, AUC = 4.91020595752\n",
      "Epoch 10/100...\n",
      "Epochs w/o increase = 6, AUC = 4.84135847423\n",
      "Epoch 11/100...\n",
      "Epochs w/o increase = 7, AUC = 4.79597252458\n",
      "Epoch 12/100...\n",
      "Epochs w/o increase = 8, AUC = 4.78408058179\n",
      "Epoch 13/100...\n",
      "Epochs w/o increase = 9, AUC = 4.76163448747\n",
      "Epoch 14/100...\n",
      "Epochs w/o increase = 10, AUC = 4.75063716399\n",
      "Patience tolerance reached\n",
      "Training complete\n"
     ]
    }
   ],
   "source": [
    "train_model(model, kf_files[0], batch_size)"
   ]
  },
  {
   "cell_type": "code",
   "execution_count": 7,
   "metadata": {
    "collapsed": false
   },
   "outputs": [
    {
     "name": "stdout",
     "output_type": "stream",
     "text": [
      "Score    = 0.522353523016\n",
      "AUC      = 20.4830926076\n",
      "Accuracy = 38115/50000 = 0.7623\n"
     ]
    },
    {
     "data": {
      "image/png": "[encoded data removed]",
      "text/plain": [
       "<matplotlib.figure.Figure at 0x1071c2710>"
      ]
     },
     "metadata": {},
     "output_type": "display_data"
    }
   ],
   "source": [
    "test_model(model, kf_files[0], batch_size)"
   ]
  },
  {
   "cell_type": "code",
   "execution_count": null,
   "metadata": {
    "collapsed": true
   },
   "outputs": [],
   "source": []
  }
 ],
 "metadata": {
  "kernelspec": {
   "display_name": "Python 2",
   "language": "python",
   "name": "python2"
  },
  "language_info": {
   "codemirror_mode": {
    "name": "ipython",
    "version": 2
   },
   "file_extension": ".py",
   "mimetype": "text/x-python",
   "name": "python",
   "nbconvert_exporter": "python",
   "pygments_lexer": "ipython2",
   "version": "2.7.11"
  }
 },
 "nbformat": 4,
 "nbformat_minor": 0
}
