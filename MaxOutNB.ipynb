{
 "cells": [
  {
   "cell_type": "code",
   "execution_count": 1,
   "metadata": {
    "collapsed": true
   },
   "outputs": [],
   "source": [
    "%matplotlib inline"
   ]
  },
  {
   "cell_type": "code",
   "execution_count": 2,
   "metadata": {
    "collapsed": false
   },
   "outputs": [
    {
     "name": "stdout",
     "output_type": "stream",
     "text": [
      "Using Theano backend.\n"
     ]
    }
   ],
   "source": [
    "from keras.layers.core import Dense, MaxoutDense\n",
    "from keras.models import Sequential\n",
    "from keras.optimizers import Adam\n",
    "from sklearn import cross_validation\n",
    "from sklearn.metrics import auc, roc_curve\n",
    "import h5py\n",
    "import matplotlib.pyplot as plt\n",
    "import numpy as np"
   ]
  },
  {
   "cell_type": "code",
   "execution_count": 3,
   "metadata": {
    "collapsed": true
   },
   "outputs": [],
   "source": [
    "max_n_s = 10000\n",
    "\n",
    "X = []\n",
    "Y = []\n",
    "with h5py.File('images/w_shrink_1p2.h5', 'r') as infile:\n",
    "    n_s = min(len(infile['images']['image']), max_n_s)\n",
    "    images = infile['images']['image'][:n_s]\n",
    "    images = images.reshape(-1, images.shape[1] * images.shape[2])\n",
    "    X.append(images)\n",
    "    Y.append(np.repeat([[1, 0]], images.shape[0], axis=0))\n",
    "with h5py.File('images/qcd_shrink_1p2.h5', 'r') as infile:\n",
    "    n_s = min(len(infile['images']['image']), max_n_s)\n",
    "    images = infile['images']['image'][:n_s]\n",
    "    images = images.reshape(-1, images.shape[1] * images.shape[2])\n",
    "    X.append(images)\n",
    "    Y.append(np.repeat([[0, 1]], images.shape[0], axis=0))\n",
    "X = np.concatenate(X)\n",
    "Y = np.concatenate(Y)"
   ]
  },
  {
   "cell_type": "code",
   "execution_count": 4,
   "metadata": {
    "collapsed": true
   },
   "outputs": [],
   "source": [
    "X_train, X_test, Y_train, Y_test = cross_validation.train_test_split(X, Y, test_size=0.5)"
   ]
  },
  {
   "cell_type": "code",
   "execution_count": 5,
   "metadata": {
    "collapsed": true
   },
   "outputs": [],
   "source": [
    "epochs     = 100\n",
    "patience   = 10\n",
    "batch_size = 32\n",
    "\n",
    "model = Sequential()\n",
    "model.add(MaxoutDense(input_shape=(625,), output_dim=256, nb_feature=5, init='he_uniform'))\n",
    "model.add(MaxoutDense(output_dim=128, nb_feature=5))\n",
    "model.add(Dense(output_dim=64, activation='relu'))\n",
    "model.add(Dense(output_dim=25, activation='relu'))\n",
    "model.add(Dense(output_dim=2, activation='sigmoid'))\n",
    "optimizer = Adam()"
   ]
  },
  {
   "cell_type": "code",
   "execution_count": 6,
   "metadata": {
    "collapsed": false
   },
   "outputs": [
    {
     "name": "stdout",
     "output_type": "stream",
     "text": [
      "Epoch 1/100...\n",
      "Epochs w/o increase = 0, AUC = 7.15999629841\n",
      "Epoch 2/100...\n",
      "Epochs w/o increase = 0, AUC = 10.549803669\n",
      "Epoch 3/100...\n",
      "Epochs w/o increase = 0, AUC = 24.5677041884\n",
      "Epoch 4/100...\n",
      "Epochs w/o increase = 1, AUC = 13.8723389735\n",
      "Epoch 5/100...\n",
      "Epochs w/o increase = 2, AUC = 11.7746541236\n",
      "Epoch 6/100...\n",
      "Epochs w/o increase = 3, AUC = 21.3212242692\n",
      "Epoch 7/100...\n",
      "Epochs w/o increase = 4, AUC = 12.9260915361\n",
      "Epoch 8/100...\n",
      "Epochs w/o increase = 5, AUC = 18.6831078999\n",
      "Epoch 9/100...\n",
      "Epochs w/o increase = 6, AUC = 24.0374331588\n",
      "Epoch 10/100...\n",
      "Epochs w/o increase = 7, AUC = 19.7174861766\n",
      "Epoch 11/100...\n",
      "Epochs w/o increase = 0, AUC = 27.7963583254\n",
      "Epoch 12/100...\n",
      "Epochs w/o increase = 1, AUC = 23.0502711491\n",
      "Epoch 13/100...\n",
      "Epochs w/o increase = 2, AUC = 20.0771819481\n",
      "Epoch 14/100...\n",
      "Epochs w/o increase = 3, AUC = 27.2237393076\n",
      "Epoch 15/100...\n",
      "Epochs w/o increase = 4, AUC = 27.1059842058\n",
      "Epoch 16/100...\n",
      "Epochs w/o increase = 0, AUC = 29.2263079853\n",
      "Epoch 17/100...\n",
      "Epochs w/o increase = 1, AUC = 25.240987472\n",
      "Epoch 18/100...\n",
      "Epochs w/o increase = 2, AUC = 28.3536193423\n",
      "Epoch 19/100...\n",
      "Epochs w/o increase = 3, AUC = 25.8019472914\n",
      "Epoch 20/100...\n",
      "Epochs w/o increase = 0, AUC = 31.2603240298\n",
      "Epoch 21/100...\n",
      "Epochs w/o increase = 1, AUC = 28.6161945059\n",
      "Epoch 22/100...\n",
      "Epochs w/o increase = 2, AUC = 29.2443468121\n",
      "Epoch 23/100...\n",
      "Epochs w/o increase = 3, AUC = 27.7503321441\n",
      "Epoch 24/100...\n",
      "Epochs w/o increase = 0, AUC = 32.8101559639\n",
      "Epoch 25/100...\n",
      "Epochs w/o increase = 0, AUC = 36.5864769545\n",
      "Epoch 26/100...\n",
      "Epochs w/o increase = 1, AUC = 27.5212347149\n",
      "Epoch 27/100...\n",
      "Epochs w/o increase = 2, AUC = 36.4972490658\n",
      "Epoch 28/100...\n",
      "Epochs w/o increase = 0, AUC = 42.9777333192\n",
      "Epoch 29/100...\n",
      "Epochs w/o increase = 0, AUC = 47.2753441224\n",
      "Epoch 30/100...\n",
      "Epochs w/o increase = 1, AUC = 43.3190476116\n",
      "Epoch 31/100...\n",
      "Epochs w/o increase = 2, AUC = 34.3780101703\n",
      "Epoch 32/100...\n",
      "Epochs w/o increase = 3, AUC = 32.1735665977\n",
      "Epoch 33/100...\n",
      "Epochs w/o increase = 4, AUC = 20.9704164485\n",
      "Epoch 34/100...\n",
      "Epochs w/o increase = 5, AUC = 30.9804683789\n",
      "Epoch 35/100...\n",
      "Epochs w/o increase = 6, AUC = 22.8133884641\n",
      "Epoch 36/100...\n",
      "Epochs w/o increase = 7, AUC = 39.0312982973\n",
      "Epoch 37/100...\n",
      "Epochs w/o increase = 8, AUC = 28.4974728395\n",
      "Epoch 38/100...\n",
      "Epochs w/o increase = 9, AUC = 32.4554477625\n",
      "Epoch 39/100...\n",
      "Epochs w/o increase = 10, AUC = 30.9644415098\n",
      "Patience tolerance reached\n",
      "Training complete\n"
     ]
    }
   ],
   "source": [
    "model.compile(loss='categorical_crossentropy', optimizer=optimizer)\n",
    "X_fit, X_val, Y_fit, Y_val = cross_validation.train_test_split(X_train, Y_train, test_size=0.1)\n",
    "best_auc = 0.\n",
    "stop_cdn = 0\n",
    "res = 1. / max_n_s\n",
    "for epoch in range(epochs):\n",
    "    print \"Epoch {0}/{1}...\".format(epoch + 1, epochs)\n",
    "    model.fit(X_fit, Y_fit, nb_epoch=1, batch_size=batch_size, verbose=0)\n",
    "    Y_prob = model.predict_proba(X_val, batch_size=batch_size, verbose=0)\n",
    "    Y_prob /= Y_prob.sum(axis=1)[:,np.newaxis]\n",
    "    fpr, tpr, thresholds = roc_curve(Y_val[:, 0], Y_prob[:, 0])\n",
    "    inv_curve = np.array(\n",
    "        [[tp, 1./max(fp,res)]\n",
    "        for tp,fp in zip(tpr,fpr) if (0.2 <= tp <= 0.8 and fp > 0.)])\n",
    "    current_auc = auc(inv_curve[:, 0], inv_curve[:, 1])\n",
    "    if current_auc > best_auc:\n",
    "        best_auc = current_auc\n",
    "        stop_cdn = 0\n",
    "        model.save_weights(\"best_model_alt.h5\", overwrite=True)\n",
    "    else:\n",
    "        stop_cdn += 1\n",
    "    print \"Epochs w/o increase = {0}, AUC = {1}\".format(stop_cdn, current_auc)\n",
    "    if stop_cdn >= patience:\n",
    "        print \"Patience tolerance reached\"\n",
    "        break\n",
    "print \"Training complete\""
   ]
  },
  {
   "cell_type": "code",
   "execution_count": 11,
   "metadata": {
    "collapsed": false
   },
   "outputs": [
    {
     "name": "stdout",
     "output_type": "stream",
     "text": [
      "Score    = 0.51993461132\n",
      "AUC      = 27.2805122733\n",
      "Accuracy = 7597/10000 = 0.7597\n"
     ]
    },
    {
     "data": {
      "image/png": "[encoded data removed]",
      "text/plain": [
       "<matplotlib.figure.Figure at 0x120183350>"
      ]
     },
     "metadata": {},
     "output_type": "display_data"
    }
   ],
   "source": [
    "model.load_weights(\"best_model.h5\")\n",
    "objective_score = model.evaluate(X_test, Y_test, batch_size=batch_size, verbose=0)\n",
    "Y_prob  = model.predict_proba(X_test, batch_size=batch_size, verbose=0)\n",
    "Y_prob /= Y_prob.sum(axis=1)[:,np.newaxis]\n",
    "fpr, tpr, _ = roc_curve(Y_test[:,0], Y_prob[:,0])\n",
    "inv_curve = np.array([ [tp, 1.0/max(fp,res)]\n",
    "    for tp,fp in zip(tpr,fpr) if 0.2 <= tp <= 0.8 ])\n",
    "final_auc = auc(inv_curve[:,0], inv_curve[:,1])\n",
    "Y_pred = model.predict_classes(X_test, batch_size=batch_size, verbose=0)\n",
    "accuracy = sum([1 for i in range(len(Y_test)) if Y_test[i,Y_pred[i]] == 1.0])\n",
    "\n",
    "print \"Score    = {0}\".format(objective_score)\n",
    "print \"AUC      = {0}\".format(final_auc)\n",
    "print \"Accuracy = {0}/{1} = {2}\".format(\n",
    "    accuracy, len(Y_test), float(accuracy) / len(Y_test) )\n",
    "plt.figure()\n",
    "plt.plot(inv_curve[:,0], inv_curve[:,1])\n",
    "plt.xlabel(\"Signal efficiency\")\n",
    "plt.ylabel(\"1 / Backgroud efficiency\")\n",
    "plt.title(\"Receiver operating characteristic\")\n",
    "plt.show()"
   ]
  },
  {
   "cell_type": "code",
   "execution_count": null,
   "metadata": {
    "collapsed": true
   },
   "outputs": [],
   "source": []
  }
 ],
 "metadata": {
  "kernelspec": {
   "display_name": "Python 2",
   "language": "python",
   "name": "python2"
  },
  "language_info": {
   "codemirror_mode": {
    "name": "ipython",
    "version": 2
   },
   "file_extension": ".py",
   "mimetype": "text/x-python",
   "name": "python",
   "nbconvert_exporter": "python",
   "pygments_lexer": "ipython2",
   "version": "2.7.11"
  }
 },
 "nbformat": 4,
 "nbformat_minor": 0
}
