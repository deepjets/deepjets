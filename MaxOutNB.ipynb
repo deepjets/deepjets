{
 "cells": [
  {
   "cell_type": "code",
   "execution_count": 8,
   "metadata": {
    "collapsed": true
   },
   "outputs": [],
   "source": [
    "%matplotlib inline"
   ]
  },
  {
   "cell_type": "code",
   "execution_count": 1,
   "metadata": {
    "collapsed": false
   },
   "outputs": [
    {
     "name": "stdout",
     "output_type": "stream",
     "text": [
      "Using Theano backend.\n"
     ]
    }
   ],
   "source": [
    "from keras.callbacks import EarlyStopping\n",
    "from keras.layers.core import Dense, MaxoutDense\n",
    "from keras.models import Sequential\n",
    "from keras.optimizers import Adam\n",
    "from sklearn import cross_validation\n",
    "from sklearn.metrics import auc, roc_curve\n",
    "import h5py\n",
    "import matplotlib.pyplot as plt\n",
    "import numpy as np"
   ]
  },
  {
   "cell_type": "code",
   "execution_count": 2,
   "metadata": {
    "collapsed": true
   },
   "outputs": [],
   "source": [
    "max_n_s = 10000\n",
    "\n",
    "X = []\n",
    "Y = []\n",
    "\n",
    "with h5py.File('wprime_images.h5', 'r') as infile:\n",
    "    n_s    = min(len(infile['images']['image']), max_n_s)\n",
    "    images = infile['images']['image'][:n_s]\n",
    "    images = images.reshape(-1, images.shape[1] * images.shape[2])\n",
    "    X.append(images)\n",
    "    Y.append(np.repeat([[1, 0]], images.shape[0], axis=0))\n",
    "with h5py.File('qcd_images.h5', 'r') as infile:\n",
    "    n_s    = min(len(infile['images']['image']), max_n_s)\n",
    "    images = infile['images']['image'][:n_s]\n",
    "    images = images.reshape(-1, images.shape[1] * images.shape[2])\n",
    "    X.append(images)\n",
    "    Y.append(np.repeat([[0, 1]], images.shape[0], axis=0))\n",
    "\n",
    "X = np.concatenate(X)\n",
    "Y = np.concatenate(Y)"
   ]
  },
  {
   "cell_type": "code",
   "execution_count": 3,
   "metadata": {
    "collapsed": true
   },
   "outputs": [],
   "source": [
    "X_train, X_test, Y_train, Y_test = cross_validation.train_test_split(X, Y, test_size=0.1)"
   ]
  },
  {
   "cell_type": "code",
   "execution_count": 4,
   "metadata": {
    "collapsed": true
   },
   "outputs": [],
   "source": [
    "epochs     = 100\n",
    "patience   = 10\n",
    "batch_size = 32\n",
    "\n",
    "model = Sequential()\n",
    "\n",
    "model.add(MaxoutDense(input_shape=(625,), output_dim=256, nb_feature=5, init='he_uniform'))\n",
    "model.add(MaxoutDense(output_dim=128, nb_feature=5))\n",
    "model.add(Dense(output_dim=64, activation='relu'))\n",
    "model.add(Dense(output_dim=25, activation='relu'))\n",
    "model.add(Dense(output_dim=2, activation='sigmoid'))\n",
    "\n",
    "optimizer = Adam()"
   ]
  },
  {
   "cell_type": "code",
   "execution_count": 5,
   "metadata": {
    "collapsed": false
   },
   "outputs": [
    {
     "name": "stdout",
     "output_type": "stream",
     "text": [
      "Epoch 1/100:\n",
      "AUC                 = 71.3081765152\n",
      "Epochs w/o increase = 0\n",
      "Epoch 2/100:\n",
      "AUC                 = 184.544342306\n",
      "Epochs w/o increase = 0\n",
      "Epoch 3/100:\n",
      "AUC                 = 301.392186712\n",
      "Epochs w/o increase = 0\n",
      "Epoch 4/100:\n",
      "AUC                 = 127.276112502\n",
      "Epochs w/o increase = 1\n",
      "Epoch 5/100:\n",
      "AUC                 = 99.4951113447\n",
      "Epochs w/o increase = 2\n",
      "Epoch 6/100:\n",
      "AUC                 = 50.3817616449\n",
      "Epochs w/o increase = 3\n",
      "Epoch 7/100:\n",
      "AUC                 = 89.1767263549\n",
      "Epochs w/o increase = 4\n",
      "Epoch 8/100:\n",
      "AUC                 = 313.876139986\n",
      "Epochs w/o increase = 0\n",
      "Epoch 9/100:\n",
      "AUC                 = 171.458624465\n",
      "Epochs w/o increase = 1\n",
      "Epoch 10/100:\n",
      "AUC                 = 132.278693834\n",
      "Epochs w/o increase = 2\n",
      "Epoch 11/100:\n",
      "AUC                 = 182.545495123\n",
      "Epochs w/o increase = 3\n",
      "Epoch 12/100:\n",
      "AUC                 = 299.499117663\n",
      "Epochs w/o increase = 4\n",
      "Epoch 13/100:\n",
      "AUC                 = 251.848473705\n",
      "Epochs w/o increase = 5\n",
      "Epoch 14/100:\n",
      "AUC                 = 149.82781999\n",
      "Epochs w/o increase = 6\n",
      "Epoch 15/100:\n",
      "AUC                 = 295.392166836\n",
      "Epochs w/o increase = 7\n",
      "Epoch 16/100:\n",
      "AUC                 = 104.853396416\n",
      "Epochs w/o increase = 8\n",
      "Epoch 17/100:\n",
      "AUC                 = 183.155115687\n",
      "Epochs w/o increase = 9\n",
      "Epoch 18/100:\n",
      "AUC                 = 134.917914482\n",
      "Epochs w/o increase = 10\n",
      "Patience tolerance reached\n",
      "Training complete\n"
     ]
    }
   ],
   "source": [
    "model.compile(loss='categorical_crossentropy', optimizer=optimizer)\n",
    "\n",
    "X_fit, X_val, Y_fit, Y_val = cross_validation.train_test_split(X_train, Y_train, test_size=0.1)\n",
    "best_auc = 0.0\n",
    "stop_cdn = 0\n",
    "res      = 1.0/max_n_s\n",
    "\n",
    "for epoch in range(epochs):\n",
    "    model.fit(X_fit, Y_fit, nb_epoch=1, batch_size=batch_size,\n",
    "              validation_split=0.1, verbose=0)\n",
    "    \n",
    "    Y_pred               = model.predict_proba(X_val, batch_size=batch_size, verbose=0)\n",
    "    Y_pred              /= Y_pred.sum(axis=1)[:,np.newaxis]\n",
    "    fpr, tpr, thresholds = roc_curve(Y_val[:,0], Y_pred[:,0])\n",
    "    inv_curve            = np.array([ [tp, 1.0/max(fp,res)]\n",
    "                                      for tp,fp in zip(tpr,fpr)\n",
    "                                      if (0.2 <= tp <= 0.8 and fp > 0.0)])\n",
    "    current_auc          = auc(inv_curve[:,0], inv_curve[:,1])\n",
    "    \n",
    "    if current_auc > best_auc:\n",
    "        best_auc = current_auc\n",
    "        stop_cdn = 0\n",
    "        model.save_weights(\"best_model.h5\", overwrite=True)\n",
    "    else:\n",
    "        stop_cdn += 1\n",
    "    \n",
    "    print \"Epoch {0}/{1}:\".format(epoch+1, epochs)\n",
    "    print \"AUC                 = {0}\".format(current_auc)\n",
    "    print \"Epochs w/o increase = {0}\".format(stop_cdn)\n",
    "    \n",
    "    if stop_cdn >= patience:\n",
    "        print \"Patience tolerance reached\"\n",
    "        break\n",
    "\n",
    "print \"Training complete\""
   ]
  },
  {
   "cell_type": "code",
   "execution_count": 15,
   "metadata": {
    "collapsed": false
   },
   "outputs": [
    {
     "name": "stdout",
     "output_type": "stream",
     "text": [
      "Score    = 0.248734277964\n",
      "AUC      = 135.404154743\n",
      "Accuracy = 1859/2000 = 0.9295\n"
     ]
    }
   ],
   "source": [
    "model.load_weights(\"best_model.h5\")\n",
    "\n",
    "objective_score      = model.evaluate(X_test, Y_test, batch_size=batch_size, verbose=0)\n",
    "Y_pred               = model.predict_proba(X_test, batch_size=batch_size, verbose=0)\n",
    "Y_pred              /= Y_pred.sum(axis=1)[:,np.newaxis]\n",
    "fpr, tpr, thresholds = roc_curve(Y_test[:,0], Y_pred[:,0])\n",
    "inv_curve            = np.array([ [tp, 1.0/max(fp,res)]\n",
    "                                  for tp,fp in zip(tpr,fpr)\n",
    "                                  if 0.2 <= tp <= 0.8])\n",
    "final_auc            = auc(inv_curve[:,0], inv_curve[:,1])\n",
    "classes              = model.predict_classes(X_test, batch_size=batch_size, verbose=0)\n",
    "accuracy             = [1 for i in range(len(Y_test)) if Y_test[i,classes[i]] == 1.0]\n",
    "\n",
    "print \"Score    = {0}\".format(objective_score)\n",
    "print \"AUC      = {0}\".format(final_auc)\n",
    "print \"Accuracy = {0}/{1} = {2}\".format(sum(accuracy),\n",
    "                                        len(Y_test),\n",
    "                                        float(sum(accuracy)) / len(Y_test))"
   ]
  },
  {
   "cell_type": "code",
   "execution_count": 25,
   "metadata": {
    "collapsed": false
   },
   "outputs": [
    {
     "data": {
      "image/png": "[encoded data removed]",
      "text/plain": [
       "<matplotlib.figure.Figure at 0x12baeca90>"
      ]
     },
     "metadata": {},
     "output_type": "display_data"
    }
   ],
   "source": [
    "plt.figure()\n",
    "plt.plot(inv_curve[:,0], inv_curve[:,1])\n",
    "plt.xlabel('Signal efficiency')\n",
    "plt.ylabel('1 / Backgroud efficincy')\n",
    "plt.title('Receiver operating characteristic')\n",
    "plt.show()"
   ]
  },
  {
   "cell_type": "code",
   "execution_count": 21,
   "metadata": {
    "collapsed": false
   },
   "outputs": [
    {
     "name": "stdout",
     "output_type": "stream",
     "text": [
      "[ 0.00198216  0.00297324  0.0049554  ...,  1.          1.          1.        ]\n"
     ]
    }
   ],
   "source": [
    "print tpr"
   ]
  },
  {
   "cell_type": "code",
   "execution_count": null,
   "metadata": {
    "collapsed": true
   },
   "outputs": [],
   "source": []
  }
 ],
 "metadata": {
  "kernelspec": {
   "display_name": "Python 2",
   "language": "python",
   "name": "python2"
  },
  "language_info": {
   "codemirror_mode": {
    "name": "ipython",
    "version": 2
   },
   "file_extension": ".py",
   "mimetype": "text/x-python",
   "name": "python",
   "nbconvert_exporter": "python",
   "pygments_lexer": "ipython2",
   "version": "2.7.11"
  }
 },
 "nbformat": 4,
 "nbformat_minor": 0
}
