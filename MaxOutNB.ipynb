{
 "cells": [
  {
   "cell_type": "code",
   "execution_count": 8,
   "metadata": {
    "collapsed": true
   },
   "outputs": [],
   "source": [
    "%matplotlib inline"
   ]
  },
  {
   "cell_type": "code",
   "execution_count": 9,
   "metadata": {
    "collapsed": false
   },
   "outputs": [],
   "source": [
    "from keras.layers.core import Dense, MaxoutDense\n",
    "from keras.models import Sequential\n",
    "from keras.optimizers import Adam\n",
    "from sklearn import cross_validation\n",
    "from sklearn.metrics import auc, roc_curve\n",
    "import h5py\n",
    "import matplotlib.pyplot as plt\n",
    "import numpy as np"
   ]
  },
  {
   "cell_type": "code",
   "execution_count": 10,
   "metadata": {
    "collapsed": true
   },
   "outputs": [],
   "source": [
    "max_n_s = 10000\n",
    "\n",
    "X = []\n",
    "Y = []\n",
    "\n",
    "with h5py.File('wprime_images_rs.h5', 'r') as infile:\n",
    "    n_s    = min(len(infile['images']['image']), max_n_s)\n",
    "    images = infile['images']['image'][:n_s]\n",
    "    images = images.reshape(-1, images.shape[1] * images.shape[2])\n",
    "    X.append(images)\n",
    "    Y.append(np.repeat([[1, 0]], images.shape[0], axis=0))\n",
    "with h5py.File('qcd_images_rs.h5', 'r') as infile:\n",
    "    n_s    = min(len(infile['images']['image']), max_n_s)\n",
    "    images = infile['images']['image'][:n_s]\n",
    "    images = images.reshape(-1, images.shape[1] * images.shape[2])\n",
    "    X.append(images)\n",
    "    Y.append(np.repeat([[0, 1]], images.shape[0], axis=0))\n",
    "\n",
    "X = np.concatenate(X)\n",
    "Y = np.concatenate(Y)"
   ]
  },
  {
   "cell_type": "code",
   "execution_count": 11,
   "metadata": {
    "collapsed": true
   },
   "outputs": [],
   "source": [
    "X_train, X_test, Y_train, Y_test = cross_validation.train_test_split(X, Y, test_size=0.1)"
   ]
  },
  {
   "cell_type": "code",
   "execution_count": 12,
   "metadata": {
    "collapsed": true
   },
   "outputs": [],
   "source": [
    "epochs     = 100\n",
    "patience   = 10\n",
    "batch_size = 32\n",
    "\n",
    "model = Sequential()\n",
    "model.add(MaxoutDense(input_shape=(625,), output_dim=256, nb_feature=5, init='he_uniform'))\n",
    "model.add(MaxoutDense(output_dim=128, nb_feature=5))\n",
    "model.add(Dense(output_dim=64, activation='relu'))\n",
    "model.add(Dense(output_dim=25, activation='relu'))\n",
    "model.add(Dense(output_dim=2, activation='sigmoid'))\n",
    "optimizer = Adam()"
   ]
  },
  {
   "cell_type": "code",
   "execution_count": 13,
   "metadata": {
    "collapsed": false
   },
   "outputs": [
    {
     "name": "stdout",
     "output_type": "stream",
     "text": [
      "Epoch 1/100:\n",
      "AUC                 = 9.08048886484\n",
      "Epochs w/o increase = 0\n",
      "Epoch 2/100:\n",
      "AUC                 = 24.8003596744\n",
      "Epochs w/o increase = 0\n",
      "Epoch 3/100:\n",
      "AUC                 = 35.7967822427\n",
      "Epochs w/o increase = 0\n",
      "Epoch 4/100:\n",
      "AUC                 = 34.8705767017\n",
      "Epochs w/o increase = 1\n",
      "Epoch 5/100:\n",
      "AUC                 = 35.9627369486\n",
      "Epochs w/o increase = 0\n",
      "Epoch 6/100:\n",
      "AUC                 = 37.6600990557\n",
      "Epochs w/o increase = 0\n",
      "Epoch 7/100:\n",
      "AUC                 = 36.3997210871\n",
      "Epochs w/o increase = 1\n",
      "Epoch 8/100:\n",
      "AUC                 = 38.9366333886\n",
      "Epochs w/o increase = 0\n",
      "Epoch 9/100:\n",
      "AUC                 = 35.7811017753\n",
      "Epochs w/o increase = 1\n",
      "Epoch 10/100:\n",
      "AUC                 = 37.7964960261\n",
      "Epochs w/o increase = 2\n",
      "Epoch 11/100:\n",
      "AUC                 = 40.6976655814\n",
      "Epochs w/o increase = 0\n",
      "Epoch 12/100:\n",
      "AUC                 = 40.0978713614\n",
      "Epochs w/o increase = 1\n",
      "Epoch 13/100:\n",
      "AUC                 = 39.5447473661\n",
      "Epochs w/o increase = 2\n",
      "Epoch 14/100:\n",
      "AUC                 = 41.3310965138\n",
      "Epochs w/o increase = 0\n",
      "Epoch 15/100:\n",
      "AUC                 = 35.3922176591\n",
      "Epochs w/o increase = 1\n",
      "Epoch 16/100:\n",
      "AUC                 = 41.5600367248\n",
      "Epochs w/o increase = 0\n",
      "Epoch 17/100:\n",
      "AUC                 = 41.2259071231\n",
      "Epochs w/o increase = 1\n",
      "Epoch 18/100:\n",
      "AUC                 = 40.3192406419\n",
      "Epochs w/o increase = 2\n",
      "Epoch 19/100:\n",
      "AUC                 = 48.6768164981\n",
      "Epochs w/o increase = 0\n",
      "Epoch 20/100:\n",
      "AUC                 = 61.7958152307\n",
      "Epochs w/o increase = 0\n",
      "Epoch 21/100:\n",
      "AUC                 = 54.403128695\n",
      "Epochs w/o increase = 1\n",
      "Epoch 22/100:\n",
      "AUC                 = 51.0187746084\n",
      "Epochs w/o increase = 2\n",
      "Epoch 23/100:\n",
      "AUC                 = 52.6552670598\n",
      "Epochs w/o increase = 3\n",
      "Epoch 24/100:\n",
      "AUC                 = 36.2505893286\n",
      "Epochs w/o increase = 4\n",
      "Epoch 25/100:\n",
      "AUC                 = 61.916620329\n",
      "Epochs w/o increase = 0\n",
      "Epoch 26/100:\n",
      "AUC                 = 61.2226137604\n",
      "Epochs w/o increase = 1\n",
      "Epoch 27/100:\n",
      "AUC                 = 49.7841134687\n",
      "Epochs w/o increase = 2\n",
      "Epoch 28/100:\n",
      "AUC                 = 55.3660641772\n",
      "Epochs w/o increase = 3\n",
      "Epoch 29/100:\n",
      "AUC                 = 62.534652474\n",
      "Epochs w/o increase = 0\n",
      "Epoch 30/100:\n",
      "AUC                 = 52.5193085435\n",
      "Epochs w/o increase = 1\n",
      "Epoch 31/100:\n",
      "AUC                 = 58.9385208368\n",
      "Epochs w/o increase = 2\n",
      "Epoch 32/100:\n",
      "AUC                 = 57.7706583865\n",
      "Epochs w/o increase = 3\n",
      "Epoch 33/100:\n",
      "AUC                 = 53.1238259205\n",
      "Epochs w/o increase = 4\n",
      "Epoch 34/100:\n",
      "AUC                 = 80.0119380766\n",
      "Epochs w/o increase = 0\n",
      "Epoch 35/100:\n",
      "AUC                 = 78.0388563923\n",
      "Epochs w/o increase = 1\n",
      "Epoch 36/100:\n",
      "AUC                 = 91.2234624468\n",
      "Epochs w/o increase = 0\n",
      "Epoch 37/100:\n",
      "AUC                 = 118.402877735\n",
      "Epochs w/o increase = 0\n",
      "Epoch 38/100:\n",
      "AUC                 = 58.6930912743\n",
      "Epochs w/o increase = 1\n",
      "Epoch 39/100:\n",
      "AUC                 = 88.8589012949\n",
      "Epochs w/o increase = 2\n",
      "Epoch 40/100:\n",
      "AUC                 = 67.1316213581\n",
      "Epochs w/o increase = 3\n",
      "Epoch 41/100:\n",
      "AUC                 = 98.7700966042\n",
      "Epochs w/o increase = 4\n",
      "Epoch 42/100:\n",
      "AUC                 = 86.3886597417\n",
      "Epochs w/o increase = 5\n",
      "Epoch 43/100:\n",
      "AUC                 = 90.4134526703\n",
      "Epochs w/o increase = 6\n",
      "Epoch 44/100:\n",
      "AUC                 = 73.5180794257\n",
      "Epochs w/o increase = 7\n",
      "Epoch 45/100:\n",
      "AUC                 = 79.6851676055\n",
      "Epochs w/o increase = 8\n",
      "Epoch 46/100:\n",
      "AUC                 = 106.767270395\n",
      "Epochs w/o increase = 9\n",
      "Epoch 47/100:\n",
      "AUC                 = 97.938012858\n",
      "Epochs w/o increase = 10\n",
      "Patience tolerance reached\n",
      "Training complete\n"
     ]
    }
   ],
   "source": [
    "model.compile(loss='categorical_crossentropy', optimizer=optimizer)\n",
    "X_fit, X_val, Y_fit, Y_val = cross_validation.train_test_split(X_train, Y_train, test_size=0.1)\n",
    "best_auc = 0.\n",
    "stop_cdn = 0\n",
    "res      = 1.0/max_n_s\n",
    "\n",
    "for epoch in range(epochs):\n",
    "    model.fit(X_fit, Y_fit, nb_epoch=1, batch_size=batch_size,\n",
    "              validation_split=0.1, verbose=0)\n",
    "    \n",
    "    Y_pred  = model.predict_proba(X_val, batch_size=batch_size, verbose=0)\n",
    "    Y_pred /= Y_pred.sum(axis=1)[:,np.newaxis]\n",
    "    fpr, tpr, thresholds = roc_curve(Y_val[:,0], Y_pred[:,0])\n",
    "    inv_curve = np.array([ [tp, 1./max(fp,res)]\n",
    "        for tp,fp in zip(tpr,fpr) if (0.2 <= tp <= 0.8 and fp > 0.) ])\n",
    "    current_auc = auc(inv_curve[:,0], inv_curve[:,1])\n",
    "    \n",
    "    if current_auc > best_auc:\n",
    "        best_auc = current_auc\n",
    "        stop_cdn = 0\n",
    "        model.save_weights(\"best_model.h5\", overwrite=True)\n",
    "    else:\n",
    "        stop_cdn += 1\n",
    "    \n",
    "    print \"Epoch {0}/{1}:\".format(epoch+1, epochs)\n",
    "    print \"AUC                 = {0}\".format(current_auc)\n",
    "    print \"Epochs w/o increase = {0}\".format(stop_cdn)\n",
    "    \n",
    "    if stop_cdn >= patience:\n",
    "        print \"Patience tolerance reached\"\n",
    "        break\n",
    "\n",
    "print \"Training complete\""
   ]
  },
  {
   "cell_type": "code",
   "execution_count": 14,
   "metadata": {
    "collapsed": false
   },
   "outputs": [
    {
     "name": "stdout",
     "output_type": "stream",
     "text": [
      "Score    = 0.362912439108\n",
      "AUC      = 55.8418316591\n",
      "Accuracy = 1706/2000 = 0.853\n"
     ]
    }
   ],
   "source": [
    "model.load_weights(\"best_model.h5\")\n",
    "objective_score = model.evaluate(X_test, Y_test, batch_size=batch_size, verbose=0)\n",
    "Y_pred  = model.predict_proba(X_test, batch_size=batch_size, verbose=0)\n",
    "Y_pred /= Y_pred.sum(axis=1)[:,np.newaxis]\n",
    "fpr, tpr, thresholds = roc_curve(Y_test[:,0], Y_pred[:,0])\n",
    "inv_curve = np.array([ [tp, 1.0/max(fp,res)]\n",
    "    for tp,fp in zip(tpr,fpr) if 0.2 <= tp <= 0.8 ])\n",
    "final_auc = auc(inv_curve[:,0], inv_curve[:,1])\n",
    "classes   = model.predict_classes(X_test, batch_size=batch_size, verbose=0)\n",
    "accuracy  = [1 for i in range(len(Y_test)) if Y_test[i,classes[i]] == 1.0]\n",
    "\n",
    "print \"Score    = {0}\".format(objective_score)\n",
    "print \"AUC      = {0}\".format(final_auc)\n",
    "print \"Accuracy = {0}/{1} = {2}\".format(\n",
    "    sum(accuracy), len(Y_test), float(sum(accuracy)) / len(Y_test) )"
   ]
  },
  {
   "cell_type": "code",
   "execution_count": 15,
   "metadata": {
    "collapsed": false
   },
   "outputs": [
    {
     "data": {
      "image/png": "[encoded data removed]",
      "text/plain": [
       "<matplotlib.figure.Figure at 0x139beef90>"
      ]
     },
     "metadata": {},
     "output_type": "display_data"
    }
   ],
   "source": [
    "plt.figure()\n",
    "plt.plot(inv_curve[:,0], inv_curve[:,1])\n",
    "plt.xlabel(\"Signal efficiency\")\n",
    "plt.ylabel(\"1 / Backgroud efficiency\")\n",
    "plt.title(\"Receiver operating characteristic\")\n",
    "plt.show()"
   ]
  },
  {
   "cell_type": "code",
   "execution_count": null,
   "metadata": {
    "collapsed": true
   },
   "outputs": [],
   "source": []
  }
 ],
 "metadata": {
  "kernelspec": {
   "display_name": "Python 2",
   "language": "python",
   "name": "python2"
  },
  "language_info": {
   "codemirror_mode": {
    "name": "ipython",
    "version": 2
   },
   "file_extension": ".py",
   "mimetype": "text/x-python",
   "name": "python",
   "nbconvert_exporter": "python",
   "pygments_lexer": "ipython2",
   "version": "2.7.11"
  }
 },
 "nbformat": 4,
 "nbformat_minor": 0
}
