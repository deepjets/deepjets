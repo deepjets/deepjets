{
 "cells": [
  {
   "cell_type": "code",
   "execution_count": 1,
   "metadata": {
    "collapsed": true
   },
   "outputs": [],
   "source": [
    "%matplotlib inline"
   ]
  },
  {
   "cell_type": "code",
   "execution_count": 2,
   "metadata": {
    "collapsed": false
   },
   "outputs": [
    {
     "name": "stdout",
     "output_type": "stream",
     "text": [
      "Using Theano backend.\n"
     ]
    }
   ],
   "source": [
    "from keras.layers.core import Dense, MaxoutDense\n",
    "from keras.models import Sequential\n",
    "from keras.optimizers import Adam\n",
    "from sklearn import cross_validation\n",
    "from sklearn.metrics import auc, roc_curve\n",
    "import h5py\n",
    "import matplotlib.pyplot as plt\n",
    "import numpy as np"
   ]
  },
  {
   "cell_type": "code",
   "execution_count": 3,
   "metadata": {
    "collapsed": true
   },
   "outputs": [],
   "source": [
    "max_n_s = 10000\n",
    "\n",
    "X = []\n",
    "Y = []\n",
    "with h5py.File('images/w_shrink_1p2.h5', 'r') as infile:\n",
    "    n_s = min(len(infile['images']['image']), max_n_s)\n",
    "    images = infile['images']['image'][:n_s]\n",
    "    images = images.reshape(-1, images.shape[1] * images.shape[2])\n",
    "    X.append(images)\n",
    "    Y.append(np.repeat([[1, 0]], images.shape[0], axis=0))\n",
    "with h5py.File('images/qcd_shrink_1p2.h5', 'r') as infile:\n",
    "    n_s = min(len(infile['images']['image']), max_n_s)\n",
    "    images = infile['images']['image'][:n_s]\n",
    "    images = images.reshape(-1, images.shape[1] * images.shape[2])\n",
    "    X.append(images)\n",
    "    Y.append(np.repeat([[0, 1]], images.shape[0], axis=0))\n",
    "X = np.concatenate(X)\n",
    "Y = np.concatenate(Y)"
   ]
  },
  {
   "cell_type": "code",
   "execution_count": 4,
   "metadata": {
    "collapsed": true
   },
   "outputs": [],
   "source": [
    "X_train, X_test, Y_train, Y_test = cross_validation.train_test_split(X, Y, test_size=0.1)"
   ]
  },
  {
   "cell_type": "code",
   "execution_count": 5,
   "metadata": {
    "collapsed": true
   },
   "outputs": [],
   "source": [
    "epochs     = 100\n",
    "patience   = 10\n",
    "batch_size = 32\n",
    "\n",
    "model = Sequential()\n",
    "model.add(MaxoutDense(input_shape=(625,), output_dim=256, nb_feature=5, init='he_uniform'))\n",
    "model.add(MaxoutDense(output_dim=128, nb_feature=5))\n",
    "model.add(Dense(output_dim=64, activation='relu'))\n",
    "model.add(Dense(output_dim=25, activation='relu'))\n",
    "model.add(Dense(output_dim=2, activation='sigmoid'))\n",
    "optimizer = Adam()"
   ]
  },
  {
   "cell_type": "code",
   "execution_count": 6,
   "metadata": {
    "collapsed": false
   },
   "outputs": [
    {
     "name": "stderr",
     "output_type": "stream",
     "text": [
      "WARNING (theano.gof.cmodule): ModuleCache.refresh() Found key without dll in cache, deleting it. /Users/barney800/.theano/compiledir_Darwin-15.2.0-x86_64-i386-64bit-i386-2.7.11-64/tmpA3sm36/key.pkl\n",
      "WARNING:theano.gof.cmodule:ModuleCache.refresh() Found key without dll in cache, deleting it. /Users/barney800/.theano/compiledir_Darwin-15.2.0-x86_64-i386-64bit-i386-2.7.11-64/tmpA3sm36/key.pkl\n",
      "WARNING (theano.gof.compilelock): Overriding existing lock by dead process '15289' (I am process '18384')\n",
      "WARNING:theano.gof.compilelock:Overriding existing lock by dead process '15289' (I am process '18384')\n"
     ]
    },
    {
     "name": "stdout",
     "output_type": "stream",
     "text": [
      "Epoch 1/100:\n",
      "AUC                 = 6.5398768748\n",
      "Epochs w/o increase = 0\n",
      "Epoch 2/100:\n",
      "AUC                 = 10.6959525907\n",
      "Epochs w/o increase = 0\n",
      "Epoch 3/100:\n",
      "AUC                 = 9.73732665866\n",
      "Epochs w/o increase = 1\n",
      "Epoch 4/100:\n",
      "AUC                 = 9.85191551954\n",
      "Epochs w/o increase = 2\n",
      "Epoch 5/100:\n",
      "AUC                 = 12.5502303169\n",
      "Epochs w/o increase = 0\n",
      "Epoch 6/100:\n",
      "AUC                 = 15.1312386449\n",
      "Epochs w/o increase = 0\n",
      "Epoch 7/100:\n",
      "AUC                 = 12.6704514247\n",
      "Epochs w/o increase = 1\n",
      "Epoch 8/100:\n",
      "AUC                 = 13.2422874545\n",
      "Epochs w/o increase = 2\n",
      "Epoch 9/100:\n",
      "AUC                 = 13.3519297979\n",
      "Epochs w/o increase = 3\n",
      "Epoch 10/100:\n",
      "AUC                 = 14.0459486247\n",
      "Epochs w/o increase = 4\n",
      "Epoch 11/100:\n",
      "AUC                 = 15.1106118507\n",
      "Epochs w/o increase = 5\n",
      "Epoch 12/100:\n",
      "AUC                 = 15.0927148755\n",
      "Epochs w/o increase = 6\n",
      "Epoch 13/100:\n",
      "AUC                 = 12.5102331043\n",
      "Epochs w/o increase = 7\n",
      "Epoch 14/100:\n",
      "AUC                 = 17.396991693\n",
      "Epochs w/o increase = 0\n",
      "Epoch 15/100:\n",
      "AUC                 = 17.0286914575\n",
      "Epochs w/o increase = 1\n",
      "Epoch 16/100:\n",
      "AUC                 = 13.8000711182\n",
      "Epochs w/o increase = 2\n",
      "Epoch 17/100:\n",
      "AUC                 = 14.5085292107\n",
      "Epochs w/o increase = 3\n",
      "Epoch 18/100:\n",
      "AUC                 = 16.7663530203\n",
      "Epochs w/o increase = 4\n",
      "Epoch 19/100:\n",
      "AUC                 = 17.5661565959\n",
      "Epochs w/o increase = 0\n",
      "Epoch 20/100:\n",
      "AUC                 = 16.7175989946\n",
      "Epochs w/o increase = 1\n",
      "Epoch 21/100:\n",
      "AUC                 = 16.5658865792\n",
      "Epochs w/o increase = 2\n",
      "Epoch 22/100:\n",
      "AUC                 = 16.6346904838\n",
      "Epochs w/o increase = 3\n",
      "Epoch 23/100:\n",
      "AUC                 = 17.6300135509\n",
      "Epochs w/o increase = 0\n",
      "Epoch 24/100:\n",
      "AUC                 = 17.9026003646\n",
      "Epochs w/o increase = 0\n",
      "Epoch 25/100:\n",
      "AUC                 = 18.1302445247\n",
      "Epochs w/o increase = 0\n",
      "Epoch 26/100:\n",
      "AUC                 = 14.669891986\n",
      "Epochs w/o increase = 1\n",
      "Epoch 27/100:\n",
      "AUC                 = 16.2738345182\n",
      "Epochs w/o increase = 2\n",
      "Epoch 28/100:\n",
      "AUC                 = 17.825060317\n",
      "Epochs w/o increase = 3\n",
      "Epoch 29/100:\n",
      "AUC                 = 15.9006345078\n",
      "Epochs w/o increase = 4\n",
      "Epoch 30/100:\n",
      "AUC                 = 19.3914591401\n",
      "Epochs w/o increase = 0\n",
      "Epoch 31/100:\n",
      "AUC                 = 16.7116456228\n",
      "Epochs w/o increase = 1\n",
      "Epoch 32/100:\n",
      "AUC                 = 17.413034006\n",
      "Epochs w/o increase = 2\n",
      "Epoch 33/100:\n",
      "AUC                 = 19.6665179074\n",
      "Epochs w/o increase = 0\n",
      "Epoch 34/100:\n",
      "AUC                 = 17.2748894007\n",
      "Epochs w/o increase = 1\n",
      "Epoch 35/100:\n",
      "AUC                 = 16.5881669544\n",
      "Epochs w/o increase = 2\n",
      "Epoch 36/100:\n",
      "AUC                 = 11.7636883082\n",
      "Epochs w/o increase = 3\n",
      "Epoch 37/100:\n",
      "AUC                 = 17.4472958122\n",
      "Epochs w/o increase = 4\n",
      "Epoch 38/100:\n",
      "AUC                 = 17.8172973088\n",
      "Epochs w/o increase = 5\n",
      "Epoch 39/100:\n",
      "AUC                 = 16.5946858311\n",
      "Epochs w/o increase = 6\n",
      "Epoch 40/100:\n",
      "AUC                 = 17.9948445946\n",
      "Epochs w/o increase = 7\n",
      "Epoch 41/100:\n",
      "AUC                 = 14.7198477539\n",
      "Epochs w/o increase = 8\n",
      "Epoch 42/100:\n",
      "AUC                 = 15.6394718062\n",
      "Epochs w/o increase = 9\n",
      "Epoch 43/100:\n",
      "AUC                 = 16.5533169499\n",
      "Epochs w/o increase = 10\n",
      "Patience tolerance reached\n",
      "Training complete\n"
     ]
    }
   ],
   "source": [
    "model.compile(loss='categorical_crossentropy', optimizer=optimizer)\n",
    "X_fit, X_val, Y_fit, Y_val = cross_validation.train_test_split(X_train, Y_train, test_size=0.1)\n",
    "best_auc = 0.\n",
    "stop_cdn = 0\n",
    "res = 1.0/max_n_s\n",
    "for epoch in range(epochs):\n",
    "    model.fit(X_fit, Y_fit, nb_epoch=1, batch_size=batch_size,\n",
    "              validation_split=0.1, verbose=0)\n",
    "    Y_pred  = model.predict_proba(X_val, batch_size=batch_size, verbose=0)\n",
    "    Y_pred /= Y_pred.sum(axis=1)[:,np.newaxis]\n",
    "    fpr, tpr, thresholds = roc_curve(Y_val[:,0], Y_pred[:,0])\n",
    "    inv_curve = np.array(\n",
    "        [[tp, 1./max(fp,res)]\n",
    "        for tp,fp in zip(tpr,fpr) if (0.2 <= tp <= 0.8 and fp > 0.)])\n",
    "    current_auc = auc(inv_curve[:,0], inv_curve[:,1])\n",
    "    if current_auc > best_auc:\n",
    "        best_auc = current_auc\n",
    "        stop_cdn = 0\n",
    "        model.save_weights(\"best_model.h5\", overwrite=True)\n",
    "    else:\n",
    "        stop_cdn += 1\n",
    "    print \"Epoch {0}/{1}:\".format(epoch+1, epochs)\n",
    "    print \"AUC                 = {0}\".format(current_auc)\n",
    "    print \"Epochs w/o increase = {0}\".format(stop_cdn)\n",
    "    if stop_cdn >= patience:\n",
    "        print \"Patience tolerance reached\"\n",
    "        break\n",
    "print \"Training complete\""
   ]
  },
  {
   "cell_type": "code",
   "execution_count": 7,
   "metadata": {
    "collapsed": false
   },
   "outputs": [
    {
     "name": "stdout",
     "output_type": "stream",
     "text": [
      "Score    = 0.483380160809\n",
      "AUC      = 54.4342660994\n",
      "Accuracy = 1551/2000 = 0.7755\n"
     ]
    }
   ],
   "source": [
    "model.load_weights(\"best_model.h5\")\n",
    "objective_score = model.evaluate(X_test, Y_test, batch_size=batch_size, verbose=0)\n",
    "Y_pred  = model.predict_proba(X_test, batch_size=batch_size, verbose=0)\n",
    "Y_pred /= Y_pred.sum(axis=1)[:,np.newaxis]\n",
    "fpr, tpr, thresholds = roc_curve(Y_test[:,0], Y_pred[:,0])\n",
    "inv_curve = np.array([ [tp, 1.0/max(fp,res)]\n",
    "    for tp,fp in zip(tpr,fpr) if 0.2 <= tp <= 0.8 ])\n",
    "final_auc = auc(inv_curve[:,0], inv_curve[:,1])\n",
    "classes = model.predict_classes(X_test, batch_size=batch_size, verbose=0)\n",
    "accuracy = [1 for i in range(len(Y_test)) if Y_test[i,classes[i]] == 1.0]\n",
    "print \"Score    = {0}\".format(objective_score)\n",
    "print \"AUC      = {0}\".format(final_auc)\n",
    "print \"Accuracy = {0}/{1} = {2}\".format(\n",
    "    sum(accuracy), len(Y_test), float(sum(accuracy)) / len(Y_test) )"
   ]
  },
  {
   "cell_type": "code",
   "execution_count": 8,
   "metadata": {
    "collapsed": false
   },
   "outputs": [
    {
     "data": {
      "image/png": "[encoded data removed]",
      "text/plain": [
       "<matplotlib.figure.Figure at 0x12089a4d0>"
      ]
     },
     "metadata": {},
     "output_type": "display_data"
    }
   ],
   "source": [
    "plt.figure()\n",
    "plt.plot(inv_curve[:,0], inv_curve[:,1])\n",
    "plt.xlabel(\"Signal efficiency\")\n",
    "plt.ylabel(\"1 / Backgroud efficiency\")\n",
    "plt.title(\"Receiver operating characteristic\")\n",
    "plt.show()"
   ]
  },
  {
   "cell_type": "code",
   "execution_count": null,
   "metadata": {
    "collapsed": true
   },
   "outputs": [],
   "source": []
  }
 ],
 "metadata": {
  "kernelspec": {
   "display_name": "Python 2",
   "language": "python",
   "name": "python2"
  },
  "language_info": {
   "codemirror_mode": {
    "name": "ipython",
    "version": 2
   },
   "file_extension": ".py",
   "mimetype": "text/x-python",
   "name": "python",
   "nbconvert_exporter": "python",
   "pygments_lexer": "ipython2",
   "version": "2.7.11"
  }
 },
 "nbformat": 4,
 "nbformat_minor": 0
}
